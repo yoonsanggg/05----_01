{
 "cells": [
  {
   "cell_type": "code",
   "execution_count": 1,
   "id": "4032677d-afa1-4cb4-bbbc-96f286ae48ca",
   "metadata": {},
   "outputs": [],
   "source": [
    "import requests\n",
    "from bs4 import BeautifulSoup as bs\n",
    "import pandas as pd\n",
    "url='https://www.jentestore.com/goods/view?no=1650433'"
   ]
  },
  {
   "cell_type": "code",
   "execution_count": 3,
   "id": "66b4229e-698d-4bee-889f-32ae27d7be0c",
   "metadata": {},
   "outputs": [],
   "source": [
    "req = requests.get(url)"
   ]
  },
  {
   "cell_type": "code",
   "execution_count": 5,
   "id": "af422f18-2b87-40d0-b73e-731f5b136a9c",
   "metadata": {},
   "outputs": [],
   "source": [
    "corn = bs(req.text,'html')"
   ]
  },
  {
   "cell_type": "code",
   "execution_count": 7,
   "id": "1b9b35a6-feb6-400b-90d9-42308b61d76d",
   "metadata": {},
   "outputs": [
    {
     "data": {
      "text/plain": [
       "[<div class=\"swiper-slide\">\n",
       " <img alt=\"메종 미하라 야스히로(Maison MIHARA YASUHIRO) 페인트 스플래터 와이드 데님 팬츠 A13PT025 INDIGO\" data-src=\"https://cdn.jentestore.io/resource/products/1650433/7b1ebe61_1650433_1.jpg?_=69225742\" src=\"https://cdn.jentestore.io/resource/lazy_load.png\">\n",
       " </img></div>,\n",
       " <div class=\"swiper-slide\">\n",
       " <img alt=\"메종 미하라 야스히로(Maison MIHARA YASUHIRO) 페인트 스플래터 와이드 데님 팬츠 A13PT025 INDIGO\" data-src=\"https://cdn.jentestore.io/resource/products/1650433/f6571b88_1650433_2.jpg?_=69225743\" src=\"https://cdn.jentestore.io/resource/lazy_load.png\"/>\n",
       " </div>,\n",
       " <div class=\"swiper-slide\">\n",
       " <img data-src=\"https://cdn.jentestore.io/resource/products/1650433/7b1ebe61_1650433_1.jpg?_=69225742\" src=\"https://cdn.jentestore.io/resource/lazy_load.png\">\n",
       " </img></div>,\n",
       " <div class=\"swiper-slide\">\n",
       " <img data-src=\"https://cdn.jentestore.io/resource/products/1650433/f6571b88_1650433_2.jpg?_=69225743\" src=\"https://cdn.jentestore.io/resource/lazy_load.png\">\n",
       " </img></div>,\n",
       " <div class=\"swiper-slide\">\n",
       " <img data-src=\"https://cdn.jentestore.io/resource/products/1650433/7b1ebe61_1650433_1.jpg?_=69225742\" src=\"https://cdn.jentestore.io/resource/lazy_load.png\"/>\n",
       " </div>,\n",
       " <div class=\"swiper-slide\">\n",
       " <img data-src=\"https://cdn.jentestore.io/resource/products/1650433/f6571b88_1650433_2.jpg?_=69225743\" src=\"https://cdn.jentestore.io/resource/lazy_load.png\"/>\n",
       " </div>]"
      ]
     },
     "execution_count": 7,
     "metadata": {},
     "output_type": "execute_result"
    }
   ],
   "source": [
    "corn.select('div.swiper-slide,swiper-slide-active')"
   ]
  },
  {
   "cell_type": "code",
   "execution_count": null,
   "id": "5e4b9413-b362-4434-bd71-49f45bb6997c",
   "metadata": {},
   "outputs": [],
   "source": []
  }
 ],
 "metadata": {
  "kernelspec": {
   "display_name": "Python (edu)",
   "language": "python",
   "name": "edu"
  },
  "language_info": {
   "codemirror_mode": {
    "name": "ipython",
    "version": 3
   },
   "file_extension": ".py",
   "mimetype": "text/x-python",
   "name": "python",
   "nbconvert_exporter": "python",
   "pygments_lexer": "ipython3",
   "version": "3.12.5"
  }
 },
 "nbformat": 4,
 "nbformat_minor": 5
}
