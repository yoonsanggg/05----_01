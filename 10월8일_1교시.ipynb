{
 "cells": [
  {
   "cell_type": "code",
   "execution_count": 135,
   "id": "d46773eb-8c9b-4ddb-81a2-9f51078c0aee",
   "metadata": {},
   "outputs": [],
   "source": [
    "import requests\n",
    "import pandas as pd\n",
    "from bs4 import BeautifulSoup as bs"
   ]
  },
  {
   "cell_type": "code",
   "execution_count": 141,
   "id": "8ac75800-fc60-4ab4-9402-9d741e18d189",
   "metadata": {
    "scrolled": true
   },
   "outputs": [],
   "source": [
    "# 자료 요청\n",
    "def crawler_kin(searchWord,pageNo=1):\n",
    "    '''\n",
    "    searchWord = 검색어\n",
    "    pageNo = 1 (int)\n",
    "    '''\n",
    "    url = f'https://kin.naver.com/search/list.naver?query={searchWord}&page={pageNo}'\n",
    "    html = requests.get(url)\n",
    "    soup = bs(html.text,\"html\")\n",
    "    tag_a = soup.find_all('a','_nclicks:kin.txt _searchListTitleAnchor')\n",
    "    res= []\n",
    "    for i in tag_a:\n",
    "        tmp={}\n",
    "        tmp['링크'] = i['href'].strip()\n",
    "        tmp['제목'] = i.text.replace(\"#\",\"\").strip()\n",
    "        res.append(tmp)\n",
    "    df = pd.DataFrame(res)\n",
    "    return df\n",
    "\n",
    "\n",
    "# for i in range(11):\n",
    "#     print(crawler_kin(searchWord='파이썬',pageNo=i))\n"
   ]
  },
  {
   "cell_type": "code",
   "execution_count": 147,
   "id": "004d6a6d-4b39-44df-a89c-f35b651d37ef",
   "metadata": {},
   "outputs": [],
   "source": [
    "res=[]\n",
    "for i in range(11):\n",
    "    res.append(crawler_kin(searchWord=\"파이썬\",pageNo=i))\n",
    "df = pd.concat(res,ignore_index=True)"
   ]
  },
  {
   "cell_type": "code",
   "execution_count": 152,
   "id": "c38a3ee5-3fab-4a7d-97cb-7dfc2ef47cbf",
   "metadata": {},
   "outputs": [
    {
     "data": {
      "text/plain": [
       "0     False\n",
       "1     False\n",
       "2     False\n",
       "3     False\n",
       "4     False\n",
       "      ...  \n",
       "95    False\n",
       "96    False\n",
       "97    False\n",
       "98    False\n",
       "99    False\n",
       "Length: 100, dtype: bool"
      ]
     },
     "execution_count": 152,
     "metadata": {},
     "output_type": "execute_result"
    }
   ],
   "source": [
    "df = pd.DataFrame(df)"
   ]
  },
  {
   "cell_type": "code",
   "execution_count": 153,
   "id": "0a2be627-2632-40a0-ba3e-4854b53b0194",
   "metadata": {},
   "outputs": [],
   "source": [
    "df.to_csv('지식인_제목.csv')"
   ]
  },
  {
   "cell_type": "code",
   "execution_count": null,
   "id": "b9223d79-56f5-4c55-bff2-8c9343c2880e",
   "metadata": {},
   "outputs": [],
   "source": []
  }
 ],
 "metadata": {
  "kernelspec": {
   "display_name": "Python (edu)",
   "language": "python",
   "name": "edu"
  },
  "language_info": {
   "codemirror_mode": {
    "name": "ipython",
    "version": 3
   },
   "file_extension": ".py",
   "mimetype": "text/x-python",
   "name": "python",
   "nbconvert_exporter": "python",
   "pygments_lexer": "ipython3",
   "version": "3.12.5"
  }
 },
 "nbformat": 4,
 "nbformat_minor": 5
}
