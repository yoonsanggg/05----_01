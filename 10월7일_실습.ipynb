{
 "cells": [
  {
   "cell_type": "code",
   "execution_count": 12,
   "id": "8b7aa694-3202-47f4-9481-275551f63f13",
   "metadata": {},
   "outputs": [],
   "source": [
    "from bs4 import BeautifulSoup as bs\n",
    "import pandas as pd"
   ]
  },
  {
   "cell_type": "code",
   "execution_count": 2,
   "id": "893b7a44-66ac-4b09-83ad-26751e0e5cce",
   "metadata": {},
   "outputs": [],
   "source": [
    "with open('./bs연습문제.html','r', encoding='utf-8') as f:\n",
    "    soup=bs(f,'html.parser')"
   ]
  },
  {
   "cell_type": "code",
   "execution_count": 33,
   "id": "b588fcde-9b37-4959-ac89-12ba352f6936",
   "metadata": {},
   "outputs": [],
   "source": [
    "img_tag = soup.find('div','flex_grid credits search_results').find_all('img')"
   ]
  },
  {
   "cell_type": "code",
   "execution_count": 35,
   "id": "09772e53-5b28-4526-8ceb-33724a8ce728",
   "metadata": {
    "scrolled": true
   },
   "outputs": [
    {
     "name": "stdout",
     "output_type": "stream",
     "text": [
      "https://cdn.pixabay.com/photo/2017/02/20/18/03/cat-2083492__340.jpg\n",
      "https://cdn.pixabay.com/photo/2016/03/28/12/35/cat-1285634__340.png\n",
      "https://cdn.pixabay.com/photo/2015/03/27/13/16/cat-694730__340.jpg\n",
      "https://cdn.pixabay.com/photo/2016/07/10/21/47/cat-1508613__340.jpg\n",
      "https://cdn.pixabay.com/photo/2014/11/30/14/11/kitty-551554__340.jpg\n",
      "https://cdn.pixabay.com/photo/2015/11/16/14/43/cat-1045782__340.jpg\n",
      "https://cdn.pixabay.com/photo/2015/04/23/21/59/tree-736877__340.jpg\n",
      "https://cdn.pixabay.com/photo/2014/04/13/20/49/cat-323262__340.jpg\n",
      "https://cdn.pixabay.com/photo/2013/05/30/18/21/tabby-114782__340.jpg\n",
      "https://cdn.pixabay.com/photo/2017/11/14/13/06/kitty-2948404__340.jpg\n",
      "https://cdn.pixabay.com/photo/2018/07/31/22/08/lion-3576045__340.jpg\n",
      "https://cdn.pixabay.com/photo/2017/07/24/19/57/tiger-2535888__340.jpg\n",
      "https://cdn.pixabay.com/photo/2018/03/26/20/49/tiger-3264048__340.jpg\n",
      "https://cdn.pixabay.com/photo/2017/11/06/09/53/animal-2923186__340.jpg\n",
      "https://cdn.pixabay.com/photo/2014/05/07/06/44/animal-339400__340.jpg\n",
      "https://cdn.pixabay.com/photo/2018/01/25/14/12/nature-3106213__340.jpg\n",
      "https://cdn.pixabay.com/photo/2016/06/14/00/14/cat-1455468__340.jpg\n",
      "https://cdn.pixabay.com/photo/2016/01/19/17/41/friends-1149841__340.jpg\n",
      "https://cdn.pixabay.com/photo/2017/07/25/01/22/cat-2536662__340.jpg\n",
      "https://cdn.pixabay.com/photo/2013/04/01/03/45/cat-98359__340.jpg\n",
      "https://cdn.pixabay.com/photo/2016/02/10/16/37/cat-1192026__340.jpg\n",
      "https://cdn.pixabay.com/photo/2015/05/22/05/52/cat-778315__340.jpg\n",
      "https://cdn.pixabay.com/photo/2016/11/29/10/07/animal-1868911__340.jpg\n",
      "https://cdn.pixabay.com/photo/2017/05/17/12/42/tiger-2320819__340.jpg\n",
      "https://cdn.pixabay.com/photo/2017/11/09/21/41/cat-2934720__340.jpg\n",
      "https://cdn.pixabay.com/photo/2017/12/09/21/33/sunset-3008779__340.jpg\n",
      "https://cdn.pixabay.com/photo/2016/09/05/21/37/cat-1647775__340.jpg\n",
      "https://cdn.pixabay.com/photo/2014/12/22/10/04/lion-577104__340.jpg\n",
      "https://cdn.pixabay.com/photo/2018/01/28/12/37/cat-3113513__340.jpg\n",
      "https://cdn.pixabay.com/photo/2018/05/04/16/50/cat-3374422__340.jpg\n",
      "https://cdn.pixabay.com/photo/2014/03/29/09/17/cat-300572__340.jpg\n",
      "https://cdn.pixabay.com/photo/2018/04/13/21/24/lion-3317670__340.jpg\n",
      "https://cdn.pixabay.com/photo/2017/03/14/14/49/cat-2143332__340.jpg\n",
      "https://cdn.pixabay.com/photo/2018/07/08/14/16/cat-3523992__340.jpg\n",
      "https://cdn.pixabay.com/photo/2015/08/30/10/58/cat-914110__340.jpg\n",
      "https://cdn.pixabay.com/photo/2018/01/04/18/58/cats-3061372__340.jpg\n",
      "https://cdn.pixabay.com/photo/2014/03/12/01/36/eyes-285825__340.png\n",
      "https://cdn.pixabay.com/photo/2017/08/23/08/33/cats-eyes-2671903__340.jpg\n",
      "https://cdn.pixabay.com/photo/2016/01/02/16/53/lion-1118467__340.jpg\n",
      "https://cdn.pixabay.com/photo/2017/12/11/15/34/lion-3012515__340.jpg\n",
      "https://cdn.pixabay.com/photo/2015/11/16/22/14/cat-1046544__340.jpg\n",
      "https://cdn.pixabay.com/photo/2018/11/29/23/34/cat-3846780__340.jpg\n",
      "https://cdn.pixabay.com/photo/2012/11/26/13/58/cat-67345__340.jpg\n",
      "https://cdn.pixabay.com/photo/2014/11/03/17/40/leopard-515509__340.jpg\n",
      "https://cdn.pixabay.com/photo/2015/02/25/17/56/cat-649164__340.jpg\n",
      "https://cdn.pixabay.com/photo/2016/01/20/13/05/cat-1151519__340.jpg\n",
      "https://cdn.pixabay.com/photo/2018/07/13/10/20/cat-3535404__340.jpg\n",
      "https://cdn.pixabay.com/photo/2017/04/30/18/33/cat-2273598__340.jpg\n",
      "https://cdn.pixabay.com/photo/2015/11/15/22/09/cat-1044914__340.jpg\n",
      "https://cdn.pixabay.com/photo/2016/09/07/16/19/bremen-town-musicians-1651945__340.jpg\n",
      "https://cdn.pixabay.com/photo/2019/07/10/08/31/animal-4328196__340.jpg\n",
      "https://cdn.pixabay.com/photo/2018/05/03/22/34/lion-3372720__340.jpg\n",
      "https://cdn.pixabay.com/photo/2019/05/08/21/21/cat-4189697__340.jpg\n",
      "https://cdn.pixabay.com/photo/2015/05/15/14/35/tiger-768574__340.jpg\n",
      "https://cdn.pixabay.com/photo/2013/07/19/00/18/tiger-165189__340.jpg\n",
      "https://cdn.pixabay.com/photo/2019/06/18/11/32/cat-4282123__340.jpg\n",
      "https://cdn.pixabay.com/photo/2017/11/13/07/14/cat-eyes-2944820__340.jpg\n",
      "https://cdn.pixabay.com/photo/2017/10/30/19/41/puma-2903312__340.jpg\n",
      "https://cdn.pixabay.com/photo/2017/01/12/21/42/amurtiger-1975790__340.jpg\n",
      "https://cdn.pixabay.com/photo/2016/05/15/03/29/cat-1393075__340.jpg\n",
      "https://cdn.pixabay.com/photo/2015/10/12/15/01/cat-984097__340.jpg\n",
      "https://cdn.pixabay.com/photo/2016/09/07/22/38/cat-1652822__340.jpg\n",
      "https://cdn.pixabay.com/photo/2017/01/16/23/10/snow-leopard-1985510__340.jpg\n",
      "https://cdn.pixabay.com/photo/2017/08/07/18/57/dog-2606759__340.jpg\n",
      "https://cdn.pixabay.com/photo/2017/02/15/12/12/cat-2068462__340.jpg\n",
      "https://cdn.pixabay.com/photo/2018/06/03/08/57/cat-3449999__340.jpg\n",
      "https://cdn.pixabay.com/photo/2016/09/05/23/00/persian-leopard-1647940__340.jpg\n",
      "https://cdn.pixabay.com/photo/2016/03/28/10/05/kitten-1285341__340.jpg\n",
      "https://cdn.pixabay.com/photo/2012/03/01/00/28/cheetah-19621__340.jpg\n",
      "https://cdn.pixabay.com/photo/2015/09/22/14/34/african-lion-951778__340.jpg\n",
      "https://cdn.pixabay.com/photo/2017/03/29/09/59/cat-2184682__340.jpg\n",
      "https://cdn.pixabay.com/photo/2016/12/30/12/16/cat-1940487__340.jpg\n",
      "https://cdn.pixabay.com/photo/2018/03/27/17/25/cat-3266673__340.jpg\n",
      "https://cdn.pixabay.com/photo/2014/10/01/16/36/siamese-468814__340.jpg\n",
      "https://cdn.pixabay.com/photo/2012/02/27/15/35/africa-17335__340.jpg\n",
      "https://cdn.pixabay.com/photo/2018/03/26/02/05/cat-3261420__340.jpg\n",
      "https://cdn.pixabay.com/photo/2012/03/04/00/09/africa-21787__340.jpg\n",
      "https://cdn.pixabay.com/photo/2018/04/20/17/18/cat-3336579__340.jpg\n",
      "https://cdn.pixabay.com/photo/2018/01/11/23/16/woman-3077180__340.jpg\n",
      "https://cdn.pixabay.com/photo/2012/02/27/15/36/africa-17344__340.jpg\n",
      "https://cdn.pixabay.com/photo/2016/09/10/19/56/lions-1660044__340.jpg\n",
      "https://cdn.pixabay.com/photo/2014/12/12/19/45/lion-565820__340.jpg\n",
      "https://cdn.pixabay.com/photo/2016/07/21/14/18/dog-1532627__340.png\n",
      "https://cdn.pixabay.com/photo/2015/01/31/12/36/cat-618470__340.jpg\n",
      "https://cdn.pixabay.com/photo/2016/11/08/00/12/jaguar-1807171__340.jpg\n",
      "https://cdn.pixabay.com/photo/2013/01/25/13/03/cat-76116__340.jpg\n",
      "https://cdn.pixabay.com/photo/2014/11/03/11/07/lion-515028__340.jpg\n",
      "https://cdn.pixabay.com/photo/2013/05/17/15/54/cat-111793__340.jpg\n",
      "https://cdn.pixabay.com/photo/2016/12/30/17/27/cat-1941089__340.jpg\n",
      "https://cdn.pixabay.com/photo/2016/06/24/15/48/pattern-1477380__340.png\n",
      "https://cdn.pixabay.com/photo/2015/10/26/01/07/snow-leopard-1006542__340.jpg\n",
      "https://cdn.pixabay.com/photo/2019/06/12/15/07/cat-4269479__340.jpg\n",
      "https://cdn.pixabay.com/photo/2018/05/30/19/29/cat-3442257__340.jpg\n",
      "https://cdn.pixabay.com/photo/2018/07/31/11/14/lion-3574819__340.jpg\n",
      "https://cdn.pixabay.com/photo/2017/11/22/08/07/cat-2969932__340.jpg\n",
      "https://cdn.pixabay.com/photo/2015/02/14/10/16/cat-636172__340.jpg\n",
      "https://cdn.pixabay.com/photo/2016/07/18/20/30/tiger-1526704__340.png\n",
      "https://cdn.pixabay.com/photo/2015/03/26/10/21/cat-691175__340.jpg\n",
      "https://cdn.pixabay.com/photo/2013/07/13/01/12/witch-155291__340.png\n",
      "https://cdn.pixabay.com/photo/2016/11/14/03/56/tiger-1822535__340.jpg\n"
     ]
    }
   ],
   "source": [
    "for i in img_tag:\n",
    "    print(i['src'])"
   ]
  },
  {
   "cell_type": "code",
   "execution_count": null,
   "id": "9bf9d4e1-353e-4363-99a3-f62679a1b7d4",
   "metadata": {},
   "outputs": [],
   "source": []
  }
 ],
 "metadata": {
  "kernelspec": {
   "display_name": "Python (edu)",
   "language": "python",
   "name": "edu"
  },
  "language_info": {
   "codemirror_mode": {
    "name": "ipython",
    "version": 3
   },
   "file_extension": ".py",
   "mimetype": "text/x-python",
   "name": "python",
   "nbconvert_exporter": "python",
   "pygments_lexer": "ipython3",
   "version": "3.12.5"
  }
 },
 "nbformat": 4,
 "nbformat_minor": 5
}
