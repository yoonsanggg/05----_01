{
 "cells": [
  {
   "cell_type": "code",
   "execution_count": 149,
   "id": "3a5fed49-cccd-4dea-bef2-4296734b18ec",
   "metadata": {
    "scrolled": true
   },
   "outputs": [],
   "source": [
    "import requests\n",
    "from bs4 import BeautifulSoup as bs\n",
    "import pandas as pd\n",
    "\n",
    "# 클래스  _nclicks:src.tag\n",
    "url=\"https://kin.naver.com/search/list.naver?query=%ED%8C%8C%EC%9D%B4%EC%8D%AC&page=1\"\n",
    "req =requests.get(url)\n",
    "\n",
    "soup=bs(req.text,'html')\n",
    "\n",
    "li_tag = soup.select('ul.relate_list a') # select\n",
    "tag = soup.find_all('a','nclicks:kin.txt _searchListTitleAnchor') #find_all\n",
    "res_list=[]\n",
    "for i in li_tag:\n",
    "    res={}\n",
    "    res['제목']= i.text.strip().replace('#','')\n",
    "    res['링크']=f\"https://kin.naver.com{i['href'].strip()}\"\n",
    "    res_list.append(res)\n",
    "df = pd.DataFrame(res_list)"
   ]
  },
  {
   "cell_type": "code",
   "execution_count": 151,
   "id": "16b42145-1573-4fff-86ae-ac9491f6e0d6",
   "metadata": {},
   "outputs": [],
   "source": [
    "url_blog='https://section.blog.naver.com/Search/Post.naver?pageNo=1&rangeType=ALL&orderBy=sim&keyword=%ED%8C%8C%EC%9D%B4%EC%8D%AC'"
   ]
  },
  {
   "cell_type": "code",
   "execution_count": 160,
   "id": "08542ab5-5b4a-49d4-9465-29e76880d5d6",
   "metadata": {},
   "outputs": [
    {
     "data": {
      "text/plain": [
       "[]"
      ]
     },
     "execution_count": 160,
     "metadata": {},
     "output_type": "execute_result"
    }
   ],
   "source": [
    "req_blog = requests.get(url)\n",
    "soup=bs(req_blog.text,'html')\n",
    "# 페이지 안들어오네,, 셀레니움.. ㄱㄱ혓\n",
    "soup.select('span.title')\n"
   ]
  },
  {
   "cell_type": "code",
   "execution_count": null,
   "id": "cb14a98e-69bb-45f4-b054-1d3238e5d896",
   "metadata": {},
   "outputs": [],
   "source": []
  }
 ],
 "metadata": {
  "kernelspec": {
   "display_name": "Python (edu)",
   "language": "python",
   "name": "edu"
  },
  "language_info": {
   "codemirror_mode": {
    "name": "ipython",
    "version": 3
   },
   "file_extension": ".py",
   "mimetype": "text/x-python",
   "name": "python",
   "nbconvert_exporter": "python",
   "pygments_lexer": "ipython3",
   "version": "3.12.5"
  }
 },
 "nbformat": 4,
 "nbformat_minor": 5
}
