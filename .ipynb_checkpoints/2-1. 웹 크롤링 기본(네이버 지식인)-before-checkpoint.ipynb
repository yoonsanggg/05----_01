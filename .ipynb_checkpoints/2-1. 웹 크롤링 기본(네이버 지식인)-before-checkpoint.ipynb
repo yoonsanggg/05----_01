{
 "cells": [
  {
   "cell_type": "markdown",
   "id": "7bd60be6",
   "metadata": {},
   "source": [
    "### 웹 크롤링\n",
    "- 웹 크롤러(Web Crawler)는 웹문서, 이미지 등을 주기적으로 수집하여 자동으로 데이터베이스화하는 프로그램\n",
    "- 크롤러가 하는 작업을 웹 크롤링(Web Carwling)이라 함\n",
    "- requests와 beautifulsoup4 패키지 사용"
   ]
  },
  {
   "attachments": {
    "image.png": {
     "image/png": "[encoded data removed]"
    }
   },
   "cell_type": "markdown",
   "id": "c47c9463",
   "metadata": {},
   "source": [
    "## 1. 웹 문서 전체 가져오기\n",
    "### 1) urllib.request 패키지\n",
    "####  1. url 문자열 변환 url 한글 인코딩 디코딩: \n",
    "- url 에 한글이 포함될 경우 오류가 나는 경우가 있다. \n",
    "-  이때 한글을 url 인코더로 바꿔서 입력해야 한다. \n",
    "\n",
    "<pre>\n",
    "   - urllib 의 quote 와 unquote 사용 \n",
    "   - quote() : 한글 -> url\n",
    "   - unquote() : url -> 한글\n",
    "</pre>\n",
    "![image.png](attachment:image.png)\n",
    "#### 2. 이미지 다운로드\n",
    ">from urllib import request <br>\n",
    ">request.urlretrieve('이미지url주소','파일명')"
   ]
  },
  {
   "cell_type": "code",
   "execution_count": 1,
   "id": "270dfa42",
   "metadata": {},
   "outputs": [
    {
     "name": "stdout",
     "output_type": "stream",
     "text": [
      "%ED%8C%8C%EC%9D%B4%EC%8D%AC\n",
      "파이썬\n"
     ]
    }
   ],
   "source": [
    "#url 한글 인코딩\n",
    "from urllib import parse\n",
    "print(parse.quote('파이썬'))\n",
    "print(parse.unquote('%ED%8C%8C%EC%9D%B4%EC%8D%AC'))"
   ]
  },
  {
   "cell_type": "code",
   "execution_count": 2,
   "id": "3cc2fa17",
   "metadata": {
    "scrolled": false
   },
   "outputs": [],
   "source": [
    "# url open\n",
    "from urllib.request import urlopen\n",
    "from bs4 import BeautifulSoup as BS\n",
    "\n",
    "#'파이썬' 네이버 지식인\n",
    "\n",
    "html=urlopen('https://search.naver.com/search.naver?where=kin&sm=tab_jum&query=%ED%8C%8C%EC%9D%B4%EC%8D%AC') \n",
    "soup=BS(html,'html.parser')\n",
    "#print(soup)"
   ]
  },
  {
   "cell_type": "code",
   "execution_count": 3,
   "id": "e83bdc0f",
   "metadata": {},
   "outputs": [
    {
     "data": {
      "text/plain": [
       "('img01.jpg', <http.client.HTTPMessage at 0x22671ccf700>)"
      ]
     },
     "execution_count": 3,
     "metadata": {},
     "output_type": "execute_result"
    }
   ],
   "source": [
    "# 이미지 다운로드\n",
    "from urllib import request\n",
    "request.urlretrieve('https://search.pstatic.net/common/?src=http%3A%2F%2Fblogfiles.naver.net%2FMjAyMjA3MTdfNSAg%2FMDAxNjU4MDU1NDk1MTMx.gYMOxufPdVxeftoxCjvARt0ySZWV_RTDJR27cvThAY0g.gYfUC3nvJImAhTzwHOvq18hYpwof9EQyo9-6Q6Ob9uEg.JPEG.monica32d%2F%25EA%25B0%2595%25EC%2595%2584%25EC%25A7%253F%25EB%25B6%2584%25EC%2596%2591240.jpg&type=a340','img01.jpg')"
   ]
  },
  {
   "cell_type": "code",
   "execution_count": 4,
   "id": "e696210b",
   "metadata": {},
   "outputs": [
    {
     "data": {
      "text/plain": [
       "'D:\\\\py\\\\_한경닷컴\\\\수업자료\\\\크롤링 - 복사본\\\\2일차\\\\크롤링_01'"
      ]
     },
     "execution_count": 4,
     "metadata": {},
     "output_type": "execute_result"
    }
   ],
   "source": [
    "pwd"
   ]
  },
  {
   "cell_type": "markdown",
   "id": "10b14bbf",
   "metadata": {},
   "source": [
    "### 2) requests 패키지"
   ]
  },
  {
   "cell_type": "code",
   "execution_count": 5,
   "id": "52a53a15",
   "metadata": {},
   "outputs": [],
   "source": [
    "import requests\n",
    "from bs4 import BeautifulSoup as bs\n",
    "\n",
    "#'파이썬' 네이버 지식인 검색어:'파이썬'\n",
    "\n",
    "html=requests.get('https://search.naver.com/search.naver?where=kin&sm=tab_jum&query=%ED%8C%8C%EC%9D%B4%EC%8D%AC') \n",
    "soup=BS(html.text,'html.parser')\n",
    "#print(soup))"
   ]
  },
  {
   "cell_type": "markdown",
   "id": "e65716d5",
   "metadata": {},
   "source": [
    "### 3) html 태그로 원하는 정보 추출"
   ]
  },
  {
   "cell_type": "code",
   "execution_count": 6,
   "id": "1470e758",
   "metadata": {},
   "outputs": [
    {
     "data": {
      "text/plain": [
       "[<strong class=\"elss tit\">코로나19</strong>,\n",
       " <strong class=\"elss tit\">신속항원검사</strong>,\n",
       " <strong class=\"elss tit\">코로나19 팩트체크</strong>,\n",
       " <strong class=\"elss tit\">잔여백신예약</strong>]"
      ]
     },
     "execution_count": 6,
     "metadata": {},
     "output_type": "execute_result"
    }
   ],
   "source": [
    "#find_all로 찾기\n",
    "s_tags1=soup.find_all('strong','elss')\n",
    "s_tags1"
   ]
  },
  {
   "cell_type": "code",
   "execution_count": 7,
   "id": "cb3ade0a",
   "metadata": {},
   "outputs": [
    {
     "data": {
      "text/plain": [
       "[<strong class=\"elss tit\">코로나19</strong>,\n",
       " <strong class=\"elss tit\">신속항원검사</strong>,\n",
       " <strong class=\"elss tit\">코로나19 팩트체크</strong>,\n",
       " <strong class=\"elss tit\">잔여백신예약</strong>]"
      ]
     },
     "execution_count": 7,
     "metadata": {},
     "output_type": "execute_result"
    }
   ],
   "source": [
    "#select로 찾기\n",
    "soup.select('strong.elss')"
   ]
  },
  {
   "cell_type": "code",
   "execution_count": 8,
   "id": "a311589b",
   "metadata": {},
   "outputs": [
    {
     "name": "stdout",
     "output_type": "stream",
     "text": [
      "코로나19\n",
      "신속항원검사\n",
      "코로나19 팩트체크\n",
      "잔여백신예약\n"
     ]
    }
   ],
   "source": [
    "#텍스트만 추출\n",
    "for s in s_tags1:\n",
    "    print(s.text)"
   ]
  },
  {
   "cell_type": "markdown",
   "id": "483d2a42",
   "metadata": {},
   "source": [
    "### [미션] 파이썬 연관검색어 정보 추출"
   ]
  },
  {
   "cell_type": "code",
   "execution_count": 9,
   "id": "bc674b4d",
   "metadata": {},
   "outputs": [
    {
     "data": {
      "text/plain": [
       "[<div class=\"tit\">파이썬 독학</div>,\n",
       " <div class=\"tit\">파이썬 자격증</div>,\n",
       " <div class=\"tit\">점프 투 파이썬</div>,\n",
       " <div class=\"tit\">파이썬 책</div>,\n",
       " <div class=\"tit\">혼자 공부하는 파이썬</div>,\n",
       " <div class=\"tit\">파이썬 기초</div>,\n",
       " <div class=\"tit\">파이썬 학원</div>,\n",
       " <div class=\"tit\">파이썬 설치</div>,\n",
       " <div class=\"tit\">파이썬 강의</div>,\n",
       " <div class=\"tit\">파이썬 프로그램</div>]"
      ]
     },
     "metadata": {},
     "output_type": "display_data"
    }
   ],
   "source": [
    "#find_all\n"
   ]
  },
  {
   "cell_type": "code",
   "execution_count": 10,
   "id": "486d33be",
   "metadata": {},
   "outputs": [],
   "source": [
    "#select\n"
   ]
  },
  {
   "cell_type": "code",
   "execution_count": 11,
   "id": "5c8f0257",
   "metadata": {},
   "outputs": [
    {
     "name": "stdout",
     "output_type": "stream",
     "text": [
      "파이썬 독학\n",
      "파이썬 자격증\n",
      "점프 투 파이썬\n",
      "파이썬 책\n",
      "혼자 공부하는 파이썬\n",
      "파이썬 기초\n",
      "파이썬 학원\n",
      "파이썬 설치\n",
      "파이썬 강의\n",
      "파이썬 프로그램\n"
     ]
    }
   ],
   "source": []
  },
  {
   "cell_type": "markdown",
   "id": "21bb406a",
   "metadata": {},
   "source": [
    "### [미션] 글 제목만 추출"
   ]
  },
  {
   "cell_type": "code",
   "execution_count": 12,
   "id": "03482177",
   "metadata": {},
   "outputs": [],
   "source": [
    "#find_all \n"
   ]
  },
  {
   "cell_type": "code",
   "execution_count": 13,
   "id": "e5fd2849",
   "metadata": {},
   "outputs": [
    {
     "name": "stdout",
     "output_type": "stream",
     "text": [
      "1 파이썬 코드 오류 파이썬으로 그래프 그리려고 하는데 대체 왜 오류가 뜨는 걸까요? ㅠㅠ\n",
      "2 파이썬 인티저 파이썬에 인티저가 input인가요?? input 줄인게 int 맞나요??\n",
      "3 파이썬? 파이참? 파이참, 파이썬 둘 다 설치했는데 파이참 용량이 너무 커서요 삭제하려고 하는데 파이썬 하나만 있어도 똑같이 사용가능한건가요?\n",
      "4 파이썬 국비지원 현재 프로그래밍에 대한 기초가 하나도 없고 일을 하고 있는데 온라인으로 파이썬 교육을 듣고싶은데 국비지원으로 할수 있나요?? 대략 능숙하게 사용하려면 어느정도 기간이 걸리는지 궁금합니다 ㅜㅜ!\n",
      "5 고1 정보 파이썬 질문 주피터노트북 파이썬으로 만들어야되는데 파이썬으로 사진에 있는 문제 해결 과정이랑 답 알고싶어요 급해요\n",
      "6 파이썬을 입문하고싶습니다 코딩에 관심이생겨서 한번해보고싶은게 파이썬인데 파이썬으로 무엇을할수있고 뭐부터 하는게 좋을까요?\n",
      "7 인프런에서 파이썬 배우기 대학 수업에서 파이썬을 배우긴 했지만 굉장히 기초만 배웠고 제대로 한 거 같지가 않아 제대로 한번 공부해보고 싶습니다. 인프런에서 강의를 들으려고 하는데 그냥 아예 파이썬의 기본개념부터 즉, 아예 처음부터 다시하고 싶어요. 그런데 인프런가보니깐 강의가... \n",
      "8 요새 파이썬으로 개발하는 이유\n",
      "9 엑셀vba랑 파이썬 둘중에 어느걸 써야되는건가요? 엑셀로 가계부를 만들어 사용하려고 하는데요 제가 엑셀에서 통장번호를 입력하고 그버튼을 누르면 제가능록한 통장에 얼마가 입금되는지 엑셀에 연동되서 나타나게 하려면 엑셀vba가지고 만들어야 되난요? 아니면 파이썬 가지고 만들어야 되나요? 혹시 아시는분 계시나요?\n",
      "10 파이썬 간단한 return 질문 안녕하세요 파이썬에 코드에 대한 질문입니다. 아래와 같이 if A>B: return true print(A) if A>B: print(B) return true 두개의 조건문이 있습니다. 조건이 맞을 경우 하나는 Print가 안되고 하나는 Print가 됩니다. 이유가 뭘까요,? 자세한 설명 부탁드립니다. 감사합니다.\n"
     ]
    }
   ],
   "source": []
  },
  {
   "cell_type": "code",
   "execution_count": 14,
   "id": "8d2f8532",
   "metadata": {},
   "outputs": [],
   "source": [
    "#select\n"
   ]
  },
  {
   "cell_type": "code",
   "execution_count": 15,
   "id": "18c2af3b",
   "metadata": {},
   "outputs": [
    {
     "name": "stdout",
     "output_type": "stream",
     "text": [
      "1 파이썬 코드 오류 파이썬으로 그래프 그리려고 하는데 대체 왜 오류가 뜨는 걸까요? ㅠㅠ\n",
      "2 파이썬 인티저 파이썬에 인티저가 input인가요?? input 줄인게 int 맞나요??\n",
      "3 파이썬? 파이참? 파이참, 파이썬 둘 다 설치했는데 파이참 용량이 너무 커서요 삭제하려고 하는데 파이썬 하나만 있어도 똑같이 사용가능한건가요?\n",
      "4 파이썬 국비지원 현재 프로그래밍에 대한 기초가 하나도 없고 일을 하고 있는데 온라인으로 파이썬 교육을 듣고싶은데 국비지원으로 할수 있나요?? 대략 능숙하게 사용하려면 어느정도 기간이 걸리는지 궁금합니다 ㅜㅜ!\n",
      "5 고1 정보 파이썬 질문 주피터노트북 파이썬으로 만들어야되는데 파이썬으로 사진에 있는 문제 해결 과정이랑 답 알고싶어요 급해요\n",
      "6 파이썬을 입문하고싶습니다 코딩에 관심이생겨서 한번해보고싶은게 파이썬인데 파이썬으로 무엇을할수있고 뭐부터 하는게 좋을까요?\n",
      "7 인프런에서 파이썬 배우기 대학 수업에서 파이썬을 배우긴 했지만 굉장히 기초만 배웠고 제대로 한 거 같지가 않아 제대로 한번 공부해보고 싶습니다. 인프런에서 강의를 들으려고 하는데 그냥 아예 파이썬의 기본개념부터 즉, 아예 처음부터 다시하고 싶어요. 그런데 인프런가보니깐 강의가... \n",
      "8 요새 파이썬으로 개발하는 이유\n",
      "9 엑셀vba랑 파이썬 둘중에 어느걸 써야되는건가요? 엑셀로 가계부를 만들어 사용하려고 하는데요 제가 엑셀에서 통장번호를 입력하고 그버튼을 누르면 제가능록한 통장에 얼마가 입금되는지 엑셀에 연동되서 나타나게 하려면 엑셀vba가지고 만들어야 되난요? 아니면 파이썬 가지고 만들어야 되나요? 혹시 아시는분 계시나요?\n",
      "10 파이썬 간단한 return 질문 안녕하세요 파이썬에 코드에 대한 질문입니다. 아래와 같이 if A>B: return true print(A) if A>B: print(B) return true 두개의 조건문이 있습니다. 조건이 맞을 경우 하나는 Print가 안되고 하나는 Print가 됩니다. 이유가 뭘까요,? 자세한 설명 부탁드립니다. 감사합니다.\n"
     ]
    }
   ],
   "source": []
  },
  {
   "cell_type": "markdown",
   "id": "6a234dbd",
   "metadata": {},
   "source": [
    "### [미션] '글제목'과 '하이퍼링크주소'를 추출하여 데이터프레임 형태로 저장하세요.\n"
   ]
  },
  {
   "cell_type": "code",
   "execution_count": 16,
   "id": "a5bb12e3",
   "metadata": {},
   "outputs": [],
   "source": [
    "import pandas as pd"
   ]
  },
  {
   "cell_type": "code",
   "execution_count": 17,
   "id": "ed1927f3",
   "metadata": {},
   "outputs": [],
   "source": [
    "#find_all \n"
   ]
  },
  {
   "cell_type": "code",
   "execution_count": 18,
   "id": "e4a94747",
   "metadata": {},
   "outputs": [
    {
     "data": {
      "text/html": [
       "<div>\n",
       "<style scoped>\n",
       "    .dataframe tbody tr th:only-of-type {\n",
       "        vertical-align: middle;\n",
       "    }\n",
       "\n",
       "    .dataframe tbody tr th {\n",
       "        vertical-align: top;\n",
       "    }\n",
       "\n",
       "    .dataframe thead th {\n",
       "        text-align: right;\n",
       "    }\n",
       "</style>\n",
       "<table border=\"1\" class=\"dataframe\">\n",
       "  <thead>\n",
       "    <tr style=\"text-align: right;\">\n",
       "      <th></th>\n",
       "      <th>제목</th>\n",
       "      <th>url</th>\n",
       "    </tr>\n",
       "  </thead>\n",
       "  <tbody>\n",
       "    <tr>\n",
       "      <th>0</th>\n",
       "      <td>파이썬 코드 오류 파이썬으로 그래프 그리려고 하는데 대체 왜 오류가 뜨는 걸까요? ㅠㅠ</td>\n",
       "      <td>https://kin.naver.com/qna/detail.naver?d1id=1&amp;...</td>\n",
       "    </tr>\n",
       "    <tr>\n",
       "      <th>1</th>\n",
       "      <td>파이썬 인티저 파이썬에 인티저가 input인가요?? input 줄인게 int 맞나요??</td>\n",
       "      <td>https://kin.naver.com/qna/detail.naver?d1id=1&amp;...</td>\n",
       "    </tr>\n",
       "    <tr>\n",
       "      <th>2</th>\n",
       "      <td>파이썬? 파이참? 파이참, 파이썬 둘 다 설치했는데 파이참 용량이 너무 커서요 삭제...</td>\n",
       "      <td>https://kin.naver.com/qna/detail.naver?d1id=1&amp;...</td>\n",
       "    </tr>\n",
       "    <tr>\n",
       "      <th>3</th>\n",
       "      <td>파이썬 국비지원 현재 프로그래밍에 대한 기초가 하나도 없고 일을 하고 있는데 온라인...</td>\n",
       "      <td>https://kin.naver.com/qna/detail.naver?d1id=4&amp;...</td>\n",
       "    </tr>\n",
       "    <tr>\n",
       "      <th>4</th>\n",
       "      <td>고1 정보 파이썬 질문 주피터노트북 파이썬으로 만들어야되는데 파이썬으로 사진에 있는...</td>\n",
       "      <td>https://kin.naver.com/qna/detail.naver?d1id=1&amp;...</td>\n",
       "    </tr>\n",
       "    <tr>\n",
       "      <th>5</th>\n",
       "      <td>파이썬을 입문하고싶습니다 코딩에 관심이생겨서 한번해보고싶은게 파이썬인데 파이썬으로 ...</td>\n",
       "      <td>https://kin.naver.com/qna/detail.naver?d1id=1&amp;...</td>\n",
       "    </tr>\n",
       "    <tr>\n",
       "      <th>6</th>\n",
       "      <td>인프런에서 파이썬 배우기 대학 수업에서 파이썬을 배우긴 했지만 굉장히 기초만 배웠고...</td>\n",
       "      <td>https://kin.naver.com/qna/detail.naver?d1id=1&amp;...</td>\n",
       "    </tr>\n",
       "    <tr>\n",
       "      <th>7</th>\n",
       "      <td>요새 파이썬으로 개발하는 이유</td>\n",
       "      <td>https://kin.naver.com/qna/detail.naver?d1id=1&amp;...</td>\n",
       "    </tr>\n",
       "    <tr>\n",
       "      <th>8</th>\n",
       "      <td>엑셀vba랑 파이썬 둘중에 어느걸 써야되는건가요? 엑셀로 가계부를 만들어 사용하려고...</td>\n",
       "      <td>https://kin.naver.com/qna/detail.naver?d1id=1&amp;...</td>\n",
       "    </tr>\n",
       "    <tr>\n",
       "      <th>9</th>\n",
       "      <td>파이썬 간단한 return 질문 안녕하세요 파이썬에 코드에 대한 질문입니다. 아래와...</td>\n",
       "      <td>https://kin.naver.com/qna/detail.naver?d1id=1&amp;...</td>\n",
       "    </tr>\n",
       "  </tbody>\n",
       "</table>\n",
       "</div>"
      ],
      "text/plain": [
       "                                                  제목  \\\n",
       "0   파이썬 코드 오류 파이썬으로 그래프 그리려고 하는데 대체 왜 오류가 뜨는 걸까요? ㅠㅠ   \n",
       "1   파이썬 인티저 파이썬에 인티저가 input인가요?? input 줄인게 int 맞나요??   \n",
       "2  파이썬? 파이참? 파이참, 파이썬 둘 다 설치했는데 파이참 용량이 너무 커서요 삭제...   \n",
       "3  파이썬 국비지원 현재 프로그래밍에 대한 기초가 하나도 없고 일을 하고 있는데 온라인...   \n",
       "4  고1 정보 파이썬 질문 주피터노트북 파이썬으로 만들어야되는데 파이썬으로 사진에 있는...   \n",
       "5  파이썬을 입문하고싶습니다 코딩에 관심이생겨서 한번해보고싶은게 파이썬인데 파이썬으로 ...   \n",
       "6  인프런에서 파이썬 배우기 대학 수업에서 파이썬을 배우긴 했지만 굉장히 기초만 배웠고...   \n",
       "7                                   요새 파이썬으로 개발하는 이유   \n",
       "8  엑셀vba랑 파이썬 둘중에 어느걸 써야되는건가요? 엑셀로 가계부를 만들어 사용하려고...   \n",
       "9  파이썬 간단한 return 질문 안녕하세요 파이썬에 코드에 대한 질문입니다. 아래와...   \n",
       "\n",
       "                                                 url  \n",
       "0  https://kin.naver.com/qna/detail.naver?d1id=1&...  \n",
       "1  https://kin.naver.com/qna/detail.naver?d1id=1&...  \n",
       "2  https://kin.naver.com/qna/detail.naver?d1id=1&...  \n",
       "3  https://kin.naver.com/qna/detail.naver?d1id=4&...  \n",
       "4  https://kin.naver.com/qna/detail.naver?d1id=1&...  \n",
       "5  https://kin.naver.com/qna/detail.naver?d1id=1&...  \n",
       "6  https://kin.naver.com/qna/detail.naver?d1id=1&...  \n",
       "7  https://kin.naver.com/qna/detail.naver?d1id=1&...  \n",
       "8  https://kin.naver.com/qna/detail.naver?d1id=1&...  \n",
       "9  https://kin.naver.com/qna/detail.naver?d1id=1&...  "
      ]
     },
     "metadata": {},
     "output_type": "display_data"
    }
   ],
   "source": []
  },
  {
   "cell_type": "markdown",
   "id": "15ecb9cb",
   "metadata": {},
   "source": [
    "### [미션] '글제목, 작성자, 요약글, 작성일, href' 을 테이블형태로 수집"
   ]
  },
  {
   "cell_type": "code",
   "execution_count": 19,
   "id": "18070bc5",
   "metadata": {},
   "outputs": [],
   "source": []
  },
  {
   "cell_type": "code",
   "execution_count": 20,
   "id": "4bb77ece",
   "metadata": {},
   "outputs": [],
   "source": []
  },
  {
   "cell_type": "code",
   "execution_count": 30,
   "id": "11d2fb55",
   "metadata": {},
   "outputs": [
    {
     "data": {
      "text/html": [
       "<div>\n",
       "<style scoped>\n",
       "    .dataframe tbody tr th:only-of-type {\n",
       "        vertical-align: middle;\n",
       "    }\n",
       "\n",
       "    .dataframe tbody tr th {\n",
       "        vertical-align: top;\n",
       "    }\n",
       "\n",
       "    .dataframe thead th {\n",
       "        text-align: right;\n",
       "    }\n",
       "</style>\n",
       "<table border=\"1\" class=\"dataframe\">\n",
       "  <thead>\n",
       "    <tr style=\"text-align: right;\">\n",
       "      <th></th>\n",
       "      <th>제목</th>\n",
       "      <th>작성자</th>\n",
       "      <th>글내용</th>\n",
       "      <th>작성일</th>\n",
       "      <th>url</th>\n",
       "    </tr>\n",
       "  </thead>\n",
       "  <tbody>\n",
       "    <tr>\n",
       "      <th>0</th>\n",
       "      <td>파이썬 코드 오류 파이썬으로 그래프 그리려고 하는데 대체 왜 오류가 뜨는 걸까요? ㅠㅠ</td>\n",
       "      <td>D3fau1t</td>\n",
       "      <td>실행환경에서 패키지도 설치되어있고 실행은 가능한데 에디터에서 노란줄 표시되어있고 경...</td>\n",
       "      <td>2022.07.15.</td>\n",
       "      <td>https://kin.naver.com/qna/detail.naver?d1id=1&amp;...</td>\n",
       "    </tr>\n",
       "    <tr>\n",
       "      <th>1</th>\n",
       "      <td>파이썬 인티저 파이썬에 인티저가 input인가요?? input 줄인게 int 맞나요??</td>\n",
       "      <td>폴리글랏</td>\n",
       "      <td>파이썬의 인티저는 그냥 int일텐데요 input은 키보드로 입력받는 표준 입력 함수...</td>\n",
       "      <td>2022.07.06.</td>\n",
       "      <td>https://kin.naver.com/qna/detail.naver?d1id=1&amp;...</td>\n",
       "    </tr>\n",
       "    <tr>\n",
       "      <th>2</th>\n",
       "      <td>파이썬? 파이참? 파이참, 파이썬 둘 다 설치했는데 파이참 용량이 너무 커서요 삭제...</td>\n",
       "      <td>JHeaon</td>\n",
       "      <td>파이참은 텍스트 에디터에요! 용량이 크면 다른 텍스트 에디터 사용하시면 됩니다. 파...</td>\n",
       "      <td>2022.07.30.</td>\n",
       "      <td>https://kin.naver.com/qna/detail.naver?d1id=1&amp;...</td>\n",
       "    </tr>\n",
       "    <tr>\n",
       "      <th>3</th>\n",
       "      <td>파이썬 국비지원 현재 프로그래밍에 대한 기초가 하나도 없고 일을 하고 있는데 온라인...</td>\n",
       "      <td>한국IT재단국비마스터</td>\n",
       "      <td>안녕하세요 질문자님~ 파이썬 과정 현재 국비과정으로 많은 과정들이 운영되고 있습니다...</td>\n",
       "      <td>2022.07.15.</td>\n",
       "      <td>https://kin.naver.com/qna/detail.naver?d1id=4&amp;...</td>\n",
       "    </tr>\n",
       "    <tr>\n",
       "      <th>4</th>\n",
       "      <td>고1 정보 파이썬 질문 주피터노트북 파이썬으로 만들어야되는데 파이썬으로 사진에 있는...</td>\n",
       "      <td>you_****</td>\n",
       "      <td># 1 나이 = 19 이름 = '홍길동' 취미 = '운동' 직업 = '학생' pri...</td>\n",
       "      <td>2022.06.13.</td>\n",
       "      <td>https://kin.naver.com/qna/detail.naver?d1id=1&amp;...</td>\n",
       "    </tr>\n",
       "    <tr>\n",
       "      <th>5</th>\n",
       "      <td>파이썬을 입문하고싶습니다 코딩에 관심이생겨서 한번해보고싶은게 파이썬인데 파이썬으로 ...</td>\n",
       "      <td>수정쌤 010 4435 6165</td>\n",
       "      <td>안녕하세요 코딩에 관심이 생기셨는데 파이썬을 해보고싶으시고 파이썬에 대해 궁금하신게...</td>\n",
       "      <td>2022.07.01.</td>\n",
       "      <td>https://kin.naver.com/qna/detail.naver?d1id=1&amp;...</td>\n",
       "    </tr>\n",
       "    <tr>\n",
       "      <th>6</th>\n",
       "      <td>인프런에서 파이썬 배우기 대학 수업에서 파이썬을 배우긴 했지만 굉장히 기초만 배웠고...</td>\n",
       "      <td>파이돌이</td>\n",
       "      <td>파이썬 기초 - ( 웹/백엔드 개발자 ) django, flask ... - (OA...</td>\n",
       "      <td>2022.06.12.</td>\n",
       "      <td>https://kin.naver.com/qna/detail.naver?d1id=1&amp;...</td>\n",
       "    </tr>\n",
       "    <tr>\n",
       "      <th>7</th>\n",
       "      <td>요새 파이썬으로 개발하는 이유</td>\n",
       "      <td>비트교육센터</td>\n",
       "      <td>... 파이썬의 장점에 대해 문의하셨네요. 파이썬의 가장 두드러진 장점은 쉬운 문법...</td>\n",
       "      <td>2022.07.28.</td>\n",
       "      <td>https://kin.naver.com/qna/detail.naver?d1id=1&amp;...</td>\n",
       "    </tr>\n",
       "    <tr>\n",
       "      <th>8</th>\n",
       "      <td>엑셀vba랑 파이썬 둘중에 어느걸 써야되는건가요? 엑셀로 가계부를 만들어 사용하려고...</td>\n",
       "      <td>예스폼</td>\n",
       "      <td>... 엑셀 VBA나, 파이썬 등으로 간단한 응용프로그램을 활용하는 방법도 있지만,...</td>\n",
       "      <td>2022.05.06.</td>\n",
       "      <td>https://kin.naver.com/qna/detail.naver?d1id=1&amp;...</td>\n",
       "    </tr>\n",
       "    <tr>\n",
       "      <th>9</th>\n",
       "      <td>파이썬 간단한 return 질문 안녕하세요 파이썬에 코드에 대한 질문입니다. 아래와...</td>\n",
       "      <td>소스놀이터</td>\n",
       "      <td>안녕하세요 소스놀이터라는 이름으로 유튜브에서 강의를 진행 중인 프로그래머입니다 파이...</td>\n",
       "      <td>2일 전</td>\n",
       "      <td>https://kin.naver.com/qna/detail.naver?d1id=1&amp;...</td>\n",
       "    </tr>\n",
       "  </tbody>\n",
       "</table>\n",
       "</div>"
      ],
      "text/plain": [
       "                                                  제목                작성자  \\\n",
       "0   파이썬 코드 오류 파이썬으로 그래프 그리려고 하는데 대체 왜 오류가 뜨는 걸까요? ㅠㅠ            D3fau1t   \n",
       "1   파이썬 인티저 파이썬에 인티저가 input인가요?? input 줄인게 int 맞나요??               폴리글랏   \n",
       "2  파이썬? 파이참? 파이참, 파이썬 둘 다 설치했는데 파이참 용량이 너무 커서요 삭제...             JHeaon   \n",
       "3  파이썬 국비지원 현재 프로그래밍에 대한 기초가 하나도 없고 일을 하고 있는데 온라인...        한국IT재단국비마스터   \n",
       "4  고1 정보 파이썬 질문 주피터노트북 파이썬으로 만들어야되는데 파이썬으로 사진에 있는...           you_****   \n",
       "5  파이썬을 입문하고싶습니다 코딩에 관심이생겨서 한번해보고싶은게 파이썬인데 파이썬으로 ...  수정쌤 010 4435 6165   \n",
       "6  인프런에서 파이썬 배우기 대학 수업에서 파이썬을 배우긴 했지만 굉장히 기초만 배웠고...               파이돌이   \n",
       "7                                   요새 파이썬으로 개발하는 이유             비트교육센터   \n",
       "8  엑셀vba랑 파이썬 둘중에 어느걸 써야되는건가요? 엑셀로 가계부를 만들어 사용하려고...                예스폼   \n",
       "9  파이썬 간단한 return 질문 안녕하세요 파이썬에 코드에 대한 질문입니다. 아래와...              소스놀이터   \n",
       "\n",
       "                                                 글내용          작성일  \\\n",
       "0  실행환경에서 패키지도 설치되어있고 실행은 가능한데 에디터에서 노란줄 표시되어있고 경...  2022.07.15.   \n",
       "1  파이썬의 인티저는 그냥 int일텐데요 input은 키보드로 입력받는 표준 입력 함수...  2022.07.06.   \n",
       "2  파이참은 텍스트 에디터에요! 용량이 크면 다른 텍스트 에디터 사용하시면 됩니다. 파...  2022.07.30.   \n",
       "3  안녕하세요 질문자님~ 파이썬 과정 현재 국비과정으로 많은 과정들이 운영되고 있습니다...  2022.07.15.   \n",
       "4  # 1 나이 = 19 이름 = '홍길동' 취미 = '운동' 직업 = '학생' pri...  2022.06.13.   \n",
       "5  안녕하세요 코딩에 관심이 생기셨는데 파이썬을 해보고싶으시고 파이썬에 대해 궁금하신게...  2022.07.01.   \n",
       "6  파이썬 기초 - ( 웹/백엔드 개발자 ) django, flask ... - (OA...  2022.06.12.   \n",
       "7  ... 파이썬의 장점에 대해 문의하셨네요. 파이썬의 가장 두드러진 장점은 쉬운 문법...  2022.07.28.   \n",
       "8  ... 엑셀 VBA나, 파이썬 등으로 간단한 응용프로그램을 활용하는 방법도 있지만,...  2022.05.06.   \n",
       "9  안녕하세요 소스놀이터라는 이름으로 유튜브에서 강의를 진행 중인 프로그래머입니다 파이...         2일 전   \n",
       "\n",
       "                                                 url  \n",
       "0  https://kin.naver.com/qna/detail.naver?d1id=1&...  \n",
       "1  https://kin.naver.com/qna/detail.naver?d1id=1&...  \n",
       "2  https://kin.naver.com/qna/detail.naver?d1id=1&...  \n",
       "3  https://kin.naver.com/qna/detail.naver?d1id=4&...  \n",
       "4  https://kin.naver.com/qna/detail.naver?d1id=1&...  \n",
       "5  https://kin.naver.com/qna/detail.naver?d1id=1&...  \n",
       "6  https://kin.naver.com/qna/detail.naver?d1id=1&...  \n",
       "7  https://kin.naver.com/qna/detail.naver?d1id=1&...  \n",
       "8  https://kin.naver.com/qna/detail.naver?d1id=1&...  \n",
       "9  https://kin.naver.com/qna/detail.naver?d1id=1&...  "
      ]
     },
     "metadata": {},
     "output_type": "display_data"
    }
   ],
   "source": []
  },
  {
   "cell_type": "code",
   "execution_count": null,
   "id": "32bca4e5",
   "metadata": {},
   "outputs": [],
   "source": []
  }
 ],
 "metadata": {
  "kernelspec": {
   "display_name": "Python 3 (ipykernel)",
   "language": "python",
   "name": "python3"
  },
  "language_info": {
   "codemirror_mode": {
    "name": "ipython",
    "version": 3
   },
   "file_extension": ".py",
   "mimetype": "text/x-python",
   "name": "python",
   "nbconvert_exporter": "python",
   "pygments_lexer": "ipython3",
   "version": "3.10.4"
  }
 },
 "nbformat": 4,
 "nbformat_minor": 5
}
