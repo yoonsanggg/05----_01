{
 "cells": [
  {
   "cell_type": "code",
   "execution_count": 45,
   "id": "1acf7e28-dd9b-4b54-967d-9ab51717e01e",
   "metadata": {},
   "outputs": [],
   "source": [
    "from bs4 import BeautifulSoup as bs\n",
    "import requests"
   ]
  },
  {
   "cell_type": "code",
   "execution_count": 73,
   "id": "1b7aacd4-76ba-4ae2-8a8f-fc1f711e1976",
   "metadata": {
    "scrolled": true
   },
   "outputs": [],
   "source": [
    "html = \"\"\"\n",
    "<html>\n",
    "    <head>\n",
    "        <title>The Dormouse's story</title>\n",
    "    </head>\n",
    "    <body>\n",
    "        <h1>this is h1 area</h1>\n",
    "        <h2>this is h2 area</h2>\n",
    "        <p class=\"title\"><b>The Dormouse's story</b></p>\n",
    "        <p class=\"story\">Once upon a time there were three little sisters\n",
    "            <a href=\"http://example.com/elsie\" class=\"sister\" id=\"link1\">Elsie</a>\n",
    "            <a href=\"http://example.com/lacie\" class=\"sister\" id=\"link2\">Lacie</a>\n",
    "            <a data-io=\"link3\" href=\"http://example.com/tillie\" class=\"sister\" id=\"link3\">Tillie</a>\n",
    "        </p>\n",
    "        <div>\n",
    "        <p class=\"story\">story...</p>\n",
    "        </div>\n",
    "    </body>\n",
    "</html>\n",
    "\"\"\""
   ]
  },
  {
   "cell_type": "code",
   "execution_count": 74,
   "id": "16db4b2f-9f68-4632-8a14-5569e5a083f3",
   "metadata": {},
   "outputs": [
    {
     "data": {
      "text/plain": [
       "'this is h1 area'"
      ]
     },
     "execution_count": 74,
     "metadata": {},
     "output_type": "execute_result"
    }
   ],
   "source": [
    "soup = bs(html,'html') #html 파싱 하겠다, 분석하겠다 같은말?\n",
    "soup.find('h1').text # 태그 찾아서 text만 뽑아줌"
   ]
  },
  {
   "cell_type": "code",
   "execution_count": 75,
   "id": "55bb6f01-203d-4111-8f0e-78ecf2a6dd28",
   "metadata": {},
   "outputs": [
    {
     "data": {
      "text/plain": [
       "'Lacie'"
      ]
     },
     "execution_count": 75,
     "metadata": {},
     "output_type": "execute_result"
    }
   ],
   "source": [
    "[i.text for i in soup.find_all('a')][1]"
   ]
  },
  {
   "cell_type": "code",
   "execution_count": 76,
   "id": "8456ea3e-63cd-4449-9cc7-7190a45527ca",
   "metadata": {},
   "outputs": [
    {
     "data": {
      "text/plain": [
       "'Lacie'"
      ]
     },
     "execution_count": 76,
     "metadata": {},
     "output_type": "execute_result"
    }
   ],
   "source": [
    "soup.find('a',id=\"link2\").text"
   ]
  },
  {
   "cell_type": "code",
   "execution_count": 77,
   "id": "d8542659-9356-4181-b64a-4b7cb02cb235",
   "metadata": {},
   "outputs": [
    {
     "data": {
      "text/plain": [
       "\"The Dormouse's story\""
      ]
     },
     "execution_count": 77,
     "metadata": {},
     "output_type": "execute_result"
    }
   ],
   "source": [
    "soup.find('p',\"title\").text"
   ]
  },
  {
   "cell_type": "code",
   "execution_count": 78,
   "id": "c7db860f-51c7-4829-8ad1-fad98e3f0dc1",
   "metadata": {},
   "outputs": [
    {
     "data": {
      "text/plain": [
       "\"The Dormouse's story\""
      ]
     },
     "execution_count": 78,
     "metadata": {},
     "output_type": "execute_result"
    }
   ],
   "source": [
    "soup.find('p',\"title\").text"
   ]
  },
  {
   "cell_type": "code",
   "execution_count": 86,
   "id": "c482e3ca-6e1f-45fc-b6e0-9885ce62091a",
   "metadata": {},
   "outputs": [
    {
     "data": {
      "text/plain": [
       "'story...'"
      ]
     },
     "execution_count": 86,
     "metadata": {},
     "output_type": "execute_result"
    }
   ],
   "source": [
    "soup.find('div').find('p').text"
   ]
  },
  {
   "cell_type": "code",
   "execution_count": 91,
   "id": "689718b2-b3f9-44e2-896a-75956462c7dd",
   "metadata": {},
   "outputs": [
    {
     "data": {
      "text/plain": [
       "'story...'"
      ]
     },
     "execution_count": 91,
     "metadata": {},
     "output_type": "execute_result"
    }
   ],
   "source": [
    "soup.find_all('p','story')[-1].text"
   ]
  },
  {
   "cell_type": "code",
   "execution_count": 99,
   "id": "c9ea1729-df16-47cd-bd22-bac493ed2a5c",
   "metadata": {},
   "outputs": [
    {
     "data": {
      "text/plain": [
       "[<a class=\"sister\" href=\"http://example.com/elsie\" id=\"link1\">Elsie</a>,\n",
       " <a class=\"sister\" href=\"http://example.com/lacie\" id=\"link2\">Lacie</a>,\n",
       " <a class=\"sister\" data-io=\"link3\" href=\"http://example.com/tillie\" id=\"link3\">Tillie</a>]"
      ]
     },
     "execution_count": 99,
     "metadata": {},
     "output_type": "execute_result"
    }
   ],
   "source": [
    "# 위에 꺼 좀 복잡스잖슴\n",
    "# css 문법으로 div 에 있는 p 태그\n",
    "soup.select('a#link2')\n",
    "soup.select('a.sister')"
   ]
  },
  {
   "cell_type": "code",
   "execution_count": null,
   "id": "8611b3df-1f40-4c6b-99fb-6d656f6152e7",
   "metadata": {},
   "outputs": [],
   "source": [
    "ex2 = ''' \n",
    "<html> \n",
    "    <head> \n",
    "        <h1> 사야할 과일 \n",
    "    </head> \n",
    "    <body> \n",
    "        <h1> 시장가서 사야할 과일 목록 \n",
    "            <div> <p id='fruits1' class='name1' title='바나나'> 바나나 \n",
    "                  <span class = 'price'> 3000원 </span>\n",
    "                  <div>\n",
    "                      <span class = 'count'> 10개 </span>\n",
    "                  </div>\n",
    "                  <span class = 'store'> 바나나가게 </span> \n",
    "                  <a href = 'https://www.banana.com'> banana.com </a> \n",
    "                  </p>\n",
    "            </div> \n",
    "            <div> <p id='fruits2' class='name2' title='체리'> 체리 \n",
    "                <span class = 'price'> 100원 </span> \n",
    "                <span class = 'count'> 50개 </span> \n",
    "                <span class = 'store'> 체리가게</span> \n",
    "                <a href = 'https://www.cherry.com'> cherry.com </a>\n",
    "                </p> \n",
    "            </div> \n",
    "            <div> <p id='fruits3' class='name3' title='오렌지'> 오렌지\n",
    "                <span class = 'price'> 500원 </span> \n",
    "                <span class = 'count'> 20개 </span> \n",
    "                <span class = 'store'> 오렌지가게</span> \n",
    "                <a href = 'https://www.orange.com'> orange.com </a>\n",
    "                </p> \n",
    "            <div> \n",
    "    </body> \n",
    "</html> '''\n",
    "soup2=bs(ex2,'html.parser')"
   ]
  },
  {
   "cell_type": "code",
   "execution_count": null,
   "id": "472a9eb8-fa4f-4016-b62f-ecab9d2b8de3",
   "metadata": {},
   "outputs": [],
   "source": [
    "''' \n",
    "----접근 방법\n",
    "p#fruits1 span.count - > 모든 span.count 태그 가져옴\n",
    "# 원본에는 우리 눈에 식별도 안돼서 좀 더 세분화해서 나누는게 좋을거같음\n",
    "p#>div>count\n",
    "'''\n"
   ]
  }
 ],
 "metadata": {
  "kernelspec": {
   "display_name": "Python (edu)",
   "language": "python",
   "name": "edu"
  },
  "language_info": {
   "codemirror_mode": {
    "name": "ipython",
    "version": 3
   },
   "file_extension": ".py",
   "mimetype": "text/x-python",
   "name": "python",
   "nbconvert_exporter": "python",
   "pygments_lexer": "ipython3",
   "version": "3.12.5"
  }
 },
 "nbformat": 4,
 "nbformat_minor": 5
}
