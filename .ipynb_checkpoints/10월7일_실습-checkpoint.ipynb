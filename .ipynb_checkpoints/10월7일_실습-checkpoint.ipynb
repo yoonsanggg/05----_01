{
 "cells": [
  {
   "cell_type": "code",
   "execution_count": null,
   "id": "8b7aa694-3202-47f4-9481-275551f63f13",
   "metadata": {},
   "outputs": [],
   "source": []
  }
 ],
 "metadata": {
  "kernelspec": {
   "display_name": "Python (edu)",
   "language": "python",
   "name": "edu"
  },
  "language_info": {
   "codemirror_mode": {
    "name": "ipython",
    "version": 3
   },
   "file_extension": ".py",
   "mimetype": "text/x-python",
   "name": "python",
   "nbconvert_exporter": "python",
   "pygments_lexer": "ipython3",
   "version": "3.12.5"
  }
 },
 "nbformat": 4,
 "nbformat_minor": 5
}
