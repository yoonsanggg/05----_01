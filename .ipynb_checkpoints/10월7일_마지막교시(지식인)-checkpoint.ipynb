{
 "cells": [
  {
   "cell_type": "code",
   "execution_count": 51,
   "id": "c28131d0-a1d9-4acc-aa4c-0625add46197",
   "metadata": {
    "scrolled": true
   },
   "outputs": [
    {
     "data": {
      "text/plain": [
       "['육아휴직 1년 6개월',\n",
       " '육아휴직 기간',\n",
       " '육아휴직 3년',\n",
       " '육아휴직급여 인상',\n",
       " '육아시간',\n",
       " '6+6 육아휴직',\n",
       " '육아시간 확대',\n",
       " '육아휴직 12세',\n",
       " '육아단축',\n",
       " '육아휴직 개정',\n",
       " '육아휴직 2년',\n",
       " '배우자 육아휴직',\n",
       " '육아휴직 확대',\n",
       " '육아 근로시간 단축',\n",
       " '육아시간 12세',\n",
       " '육아휴직 법안',\n",
       " '육아휴가',\n",
       " '육아휴직 연령',\n",
       " '육아휴직 개정안',\n",
       " '육아휴직 본회의']"
      ]
     },
     "execution_count": 51,
     "metadata": {},
     "output_type": "execute_result"
    }
   ],
   "source": [
    "import requests\n",
    "from bs4 import BeautifulSoup as bs\n",
    "import pandas as pd\n",
    "\n",
    "search='육아'\n",
    "url=f'https://kin.naver.com/search/list.naver?query={search}&page=1'\n",
    "html=requests.get(url)\n",
    "\n",
    "soup=bs(html.text,'html')\n",
    "similer_search_word=soup.find('div' , 'aside_list aside_word').find_all('li')\n",
    "\n",
    "res = [i.text for i in similer_search_word]\n",
    "res"
   ]
  },
  {
   "cell_type": "code",
   "execution_count": null,
   "id": "37b55a3f-1e33-47a3-aba9-438304eaa59c",
   "metadata": {},
   "outputs": [],
   "source": []
  },
  {
   "cell_type": "code",
   "execution_count": null,
   "id": "93665edb-7f56-4812-a778-13cc8554f11e",
   "metadata": {},
   "outputs": [],
   "source": []
  }
 ],
 "metadata": {
  "kernelspec": {
   "display_name": "Python (edu)",
   "language": "python",
   "name": "edu"
  },
  "language_info": {
   "codemirror_mode": {
    "name": "ipython",
    "version": 3
   },
   "file_extension": ".py",
   "mimetype": "text/x-python",
   "name": "python",
   "nbconvert_exporter": "python",
   "pygments_lexer": "ipython3",
   "version": "3.12.5"
  }
 },
 "nbformat": 4,
 "nbformat_minor": 5
}
