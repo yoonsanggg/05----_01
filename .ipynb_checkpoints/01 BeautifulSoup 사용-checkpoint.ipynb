{
 "cells": [
  {
   "cell_type": "markdown",
   "id": "c7c82b79",
   "metadata": {},
   "source": [
    "## 웹크롤링과 웹스크래핑\n",
    "### 웹 크롤링(Web crawling)\n",
    " - 봇이 많은 웹 사이트들을 돌아다니면서 URL, 키워드 등을 수집하는 것\n",
    " > 보통 검색 엔진에서 웹사이트를 수집하기 위해 사용됨\n",
    " \n",
    "### 웹 스크래핑(Web scraping)\n",
    " - 웹 사이트에서 필요한 데이터를 긁어오는 것"
   ]
  },
  {
   "cell_type": "markdown",
   "id": "9b4c36de",
   "metadata": {},
   "source": [
    "## BeautifulSoup 사용법\n",
    "- 태그로 접근: find(), find_all()\n",
    "- css 선택자: select_one(), select() \n",
    "\n",
    "\n",
    "### 1. find() 와 find_all() 함수\n"
   ]
  },
  {
   "cell_type": "code",
   "execution_count": 3,
   "id": "c4b3a6cc",
   "metadata": {},
   "outputs": [],
   "source": [
    "from bs4 import BeautifulSoup"
   ]
  },
  {
   "cell_type": "code",
   "execution_count": 4,
   "id": "b257db83",
   "metadata": {},
   "outputs": [],
   "source": [
    "html = \"\"\"\n",
    "<html>\n",
    "    <head>\n",
    "        <title>The Dormouse's story</title>\n",
    "    </head>\n",
    "    <body>\n",
    "        <h1>this is h1 area</h1>\n",
    "        <h2>this is h2 area</h2>\n",
    "        <p class=\"title\"><b>The Dormouse's story</b></p>\n",
    "        <p class=\"story\">Once upon a time there were three little sisters\n",
    "            <a href=\"http://example.com/elsie\" class=\"sister\" id=\"link1\">Elsie</a>\n",
    "            <a href=\"http://example.com/lacie\" class=\"sister\" id=\"link2\">Lacie</a>\n",
    "            <a data-io=\"link3\" href=\"http://example.com/tillie\" class=\"sister\" id=\"link3\">Tillie</a>\n",
    "        </p>\n",
    "        <p class=\"story\">story...</p>\n",
    "    </body>\n",
    "</html>\n",
    "\"\"\""
   ]
  },
  {
   "cell_type": "code",
   "execution_count": 5,
   "id": "01f63e04",
   "metadata": {},
   "outputs": [],
   "source": [
    "'''\n",
    "soup=BeautifulSoup(html,'html.parser')\n",
    "'''\n",
    "\n",
    "soup=BeautifulSoup(html,'html.parser')"
   ]
  },
  {
   "cell_type": "markdown",
   "id": "d35ceac9",
   "metadata": {},
   "source": [
    "### [형태1]  find('태그명') / find_all('태그명') => 태그로 접근"
   ]
  },
  {
   "cell_type": "code",
   "execution_count": 6,
   "id": "4d6074d0",
   "metadata": {},
   "outputs": [
    {
     "data": {
      "text/plain": [
       "<h1>this is h1 area</h1>"
      ]
     },
     "execution_count": 6,
     "metadata": {},
     "output_type": "execute_result"
    }
   ],
   "source": [
    "#h1태그 가쟈오기\n",
    "soup.find('h1')"
   ]
  },
  {
   "cell_type": "code",
   "execution_count": 7,
   "id": "0d5137c7",
   "metadata": {
    "scrolled": true
   },
   "outputs": [
    {
     "data": {
      "text/plain": [
       "<a class=\"sister\" href=\"http://example.com/elsie\" id=\"link1\">Elsie</a>"
      ]
     },
     "execution_count": 7,
     "metadata": {},
     "output_type": "execute_result"
    }
   ],
   "source": [
    "# 첫 번째 a 태그가져오기(find) \n",
    "soup.find('a')"
   ]
  },
  {
   "cell_type": "code",
   "execution_count": 8,
   "id": "d23a101e",
   "metadata": {},
   "outputs": [
    {
     "data": {
      "text/plain": [
       "[<a class=\"sister\" href=\"http://example.com/elsie\" id=\"link1\">Elsie</a>,\n",
       " <a class=\"sister\" href=\"http://example.com/lacie\" id=\"link2\">Lacie</a>,\n",
       " <a class=\"sister\" data-io=\"link3\" href=\"http://example.com/tillie\" id=\"link3\">Tillie</a>]"
      ]
     },
     "execution_count": 8,
     "metadata": {},
     "output_type": "execute_result"
    }
   ],
   "source": [
    "#a태그 모두 가져오기\n",
    "soup.find_all('a')"
   ]
  },
  {
   "cell_type": "markdown",
   "id": "0402cc69",
   "metadata": {},
   "source": [
    "### [형태2]  find('태그명',class_='클래스명')  or find('태그명','클래스명') => class로 접근"
   ]
  },
  {
   "cell_type": "code",
   "execution_count": 9,
   "id": "e1c96018",
   "metadata": {},
   "outputs": [
    {
     "data": {
      "text/plain": [
       "[<a class=\"sister\" href=\"http://example.com/elsie\" id=\"link1\">Elsie</a>,\n",
       " <a class=\"sister\" href=\"http://example.com/lacie\" id=\"link2\">Lacie</a>,\n",
       " <a class=\"sister\" data-io=\"link3\" href=\"http://example.com/tillie\" id=\"link3\">Tillie</a>]"
      ]
     },
     "execution_count": 9,
     "metadata": {},
     "output_type": "execute_result"
    }
   ],
   "source": [
    "#a태그의 sister 클래스 모두 가져오기\n",
    "soup.find_all('a','sister')"
   ]
  },
  {
   "cell_type": "markdown",
   "id": "3a4b6ab5",
   "metadata": {},
   "source": [
    "### [형태3]  find('태그명',id='아이디명')  => id로 접근"
   ]
  },
  {
   "cell_type": "code",
   "execution_count": 10,
   "id": "060d45d3",
   "metadata": {},
   "outputs": [
    {
     "data": {
      "text/plain": [
       "<a class=\"sister\" href=\"http://example.com/elsie\" id=\"link1\">Elsie</a>"
      ]
     },
     "execution_count": 10,
     "metadata": {},
     "output_type": "execute_result"
    }
   ],
   "source": [
    "#a태그의 id가 link1 가져오기\n",
    "soup.find('a',id='link1')"
   ]
  },
  {
   "cell_type": "markdown",
   "id": "fbedab1c",
   "metadata": {},
   "source": [
    "### [형태4]  find('태그명',{'속성1':'값1','속성2':'값2})  => 다중 조건"
   ]
  },
  {
   "cell_type": "code",
   "execution_count": 11,
   "id": "7ad428ad",
   "metadata": {},
   "outputs": [
    {
     "data": {
      "text/plain": [
       "<a class=\"sister\" data-io=\"link3\" href=\"http://example.com/tillie\" id=\"link3\">Tillie</a>"
      ]
     },
     "execution_count": 11,
     "metadata": {},
     "output_type": "execute_result"
    }
   ],
   "source": [
    "#a태그의 class=\"sister\"와 data-io=\"link3\" 값 가져오기\n",
    "soup.find('a',{'class':'sister','data-io':'link3'})"
   ]
  },
  {
   "cell_type": "markdown",
   "id": "005aff1b",
   "metadata": {},
   "source": [
    "### [형태5]  find('태그명').text  => 해당 태그의 텍스트 가져오기"
   ]
  },
  {
   "cell_type": "code",
   "execution_count": 12,
   "id": "4b9809a4",
   "metadata": {},
   "outputs": [
    {
     "data": {
      "text/plain": [
       "'Elsie'"
      ]
     },
     "execution_count": 12,
     "metadata": {},
     "output_type": "execute_result"
    }
   ],
   "source": [
    "#a태그의 id가 'link1'인 텍스트 가져오기\n",
    "soup.find('a',id='link1').text"
   ]
  },
  {
   "cell_type": "markdown",
   "id": "f83584d6",
   "metadata": {},
   "source": [
    "### [형태6]  find('태그명')['속성'] => 태그안의 '속성'값 가져오기"
   ]
  },
  {
   "cell_type": "code",
   "execution_count": 13,
   "id": "75a5175d",
   "metadata": {},
   "outputs": [
    {
     "name": "stdout",
     "output_type": "stream",
     "text": [
      "http://example.com/elsie\n"
     ]
    }
   ],
   "source": [
    "##a태그의 id가 'link1'인 href 속성값 가져오기\n",
    "print(soup.find('a',id='link1')['href'])\n"
   ]
  },
  {
   "cell_type": "markdown",
   "id": "c0475baa",
   "metadata": {},
   "source": [
    "### 2. select_one() 와 select() 함수\n",
    "- 특정 경로로 태그를 지정할 수 있음\n",
    "- find의 경우 반복적으로코드 하는 반면, select는 직접 하위경로를 지정할 수 있음\n",
    "- select_one() : 찾은 객체가 여러개 일 경우, 첫번째것만 봔환\n",
    "- select(): 여러개 찾음\n"
   ]
  },
  {
   "cell_type": "code",
   "execution_count": 14,
   "id": "5d990e4c",
   "metadata": {},
   "outputs": [],
   "source": [
    "ex2 = ''' \n",
    "<html> \n",
    "    <head> \n",
    "        <h1> 사야할 과일 \n",
    "    </head> \n",
    "    <body> \n",
    "        <h1> 시장가서 사야할 과일 목록 \n",
    "            <div> <p id='fruits1' class='name1' title='바나나'> 바나나 \n",
    "                  <span class = 'price'> 3000원 </span> \n",
    "                  <span class = 'count'> 10개 </span> \n",
    "                  <span class = 'store'> 바나나가게 </span> \n",
    "                  <a href = 'https://www.banana.com'> banana.com </a> \n",
    "                  </p>\n",
    "            </div> \n",
    "            <div> <p id='fruits2' class='name2' title='체리'> 체리 \n",
    "                <span class = 'price'> 100원 </span> \n",
    "                <span class = 'count'> 50개 </span> \n",
    "                <span class = 'store'> 체리가게</span> \n",
    "                <a href = 'https://www.cherry.com'> cherry.com </a>\n",
    "                </p> \n",
    "            </div> \n",
    "            <div> <p id='fruits3' class='name3' title='오렌지'> 오렌지\n",
    "                <span class = 'price'> 500원 </span> \n",
    "                <span class = 'count'> 20개 </span> \n",
    "                <span class = 'store'> 오렌지가게</span> \n",
    "                <a href = 'https://www.orange.com'> orange.com </a>\n",
    "                </p> \n",
    "            <div> \n",
    "    </body> \n",
    "</html> '''\n",
    "soup2=BeautifulSoup(ex2,'html.parser')"
   ]
  },
  {
   "cell_type": "markdown",
   "id": "9df1aa05",
   "metadata": {},
   "source": [
    "### (1) select(태그명)"
   ]
  },
  {
   "cell_type": "code",
   "execution_count": 15,
   "id": "c61cd0e6",
   "metadata": {},
   "outputs": [
    {
     "data": {
      "text/plain": [
       "[<p class=\"name1\" id=\"fruits1\" title=\"바나나\"> 바나나 \n",
       "                   <span class=\"price\"> 3000원 </span>\n",
       " <span class=\"count\"> 10개 </span>\n",
       " <span class=\"store\"> 바나나가게 </span>\n",
       " <a href=\"https://www.banana.com\"> banana.com </a>\n",
       " </p>,\n",
       " <p class=\"name2\" id=\"fruits2\" title=\"체리\"> 체리 \n",
       "                 <span class=\"price\"> 100원 </span>\n",
       " <span class=\"count\"> 50개 </span>\n",
       " <span class=\"store\"> 체리가게</span>\n",
       " <a href=\"https://www.cherry.com\"> cherry.com </a>\n",
       " </p>,\n",
       " <p class=\"name3\" id=\"fruits3\" title=\"오렌지\"> 오렌지\n",
       "                 <span class=\"price\"> 500원 </span>\n",
       " <span class=\"count\"> 20개 </span>\n",
       " <span class=\"store\"> 오렌지가게</span>\n",
       " <a href=\"https://www.orange.com\"> orange.com </a>\n",
       " </p>]"
      ]
     },
     "execution_count": 15,
     "metadata": {},
     "output_type": "execute_result"
    }
   ],
   "source": [
    "soup2.select('p')"
   ]
  },
  {
   "cell_type": "markdown",
   "id": "f81a0001",
   "metadata": {},
   "source": [
    "### (2) select(.클래스명)"
   ]
  },
  {
   "cell_type": "code",
   "execution_count": 16,
   "id": "4823efef",
   "metadata": {},
   "outputs": [
    {
     "data": {
      "text/plain": [
       "[<p class=\"name1\" id=\"fruits1\" title=\"바나나\"> 바나나 \n",
       "                   <span class=\"price\"> 3000원 </span>\n",
       " <span class=\"count\"> 10개 </span>\n",
       " <span class=\"store\"> 바나나가게 </span>\n",
       " <a href=\"https://www.banana.com\"> banana.com </a>\n",
       " </p>]"
      ]
     },
     "execution_count": 16,
     "metadata": {},
     "output_type": "execute_result"
    }
   ],
   "source": [
    "soup2.select('.name1')"
   ]
  },
  {
   "cell_type": "markdown",
   "id": "92df0bd9",
   "metadata": {},
   "source": [
    "### (3) select('상위태그 > 하위 태그 > 하위태그')"
   ]
  },
  {
   "cell_type": "code",
   "execution_count": 17,
   "id": "70d5ffdb",
   "metadata": {},
   "outputs": [
    {
     "data": {
      "text/plain": [
       "[<span class=\"price\"> 3000원 </span>,\n",
       " <span class=\"count\"> 10개 </span>,\n",
       " <span class=\"store\"> 바나나가게 </span>,\n",
       " <span class=\"price\"> 100원 </span>,\n",
       " <span class=\"count\"> 50개 </span>,\n",
       " <span class=\"store\"> 체리가게</span>,\n",
       " <span class=\"price\"> 500원 </span>,\n",
       " <span class=\"count\"> 20개 </span>,\n",
       " <span class=\"store\"> 오렌지가게</span>]"
      ]
     },
     "execution_count": 17,
     "metadata": {},
     "output_type": "execute_result"
    }
   ],
   "source": [
    "soup2.select('div>p>span')"
   ]
  },
  {
   "cell_type": "code",
   "execution_count": 19,
   "id": "95e0084e",
   "metadata": {},
   "outputs": [
    {
     "data": {
      "text/plain": [
       "[<span class=\"price\"> 3000원 </span>,\n",
       " <span class=\"count\"> 10개 </span>,\n",
       " <span class=\"store\"> 바나나가게 </span>,\n",
       " <span class=\"price\"> 100원 </span>,\n",
       " <span class=\"count\"> 50개 </span>,\n",
       " <span class=\"store\"> 체리가게</span>,\n",
       " <span class=\"price\"> 500원 </span>,\n",
       " <span class=\"count\"> 20개 </span>,\n",
       " <span class=\"store\"> 오렌지가게</span>]"
      ]
     },
     "execution_count": 19,
     "metadata": {},
     "output_type": "execute_result"
    }
   ],
   "source": [
    "soup2.select('p>span')"
   ]
  },
  {
   "cell_type": "code",
   "execution_count": 18,
   "id": "7454c623",
   "metadata": {},
   "outputs": [
    {
     "data": {
      "text/plain": [
       "[<span class=\"price\"> 3000원 </span>,\n",
       " <span class=\"count\"> 10개 </span>,\n",
       " <span class=\"store\"> 바나나가게 </span>,\n",
       " <span class=\"price\"> 100원 </span>,\n",
       " <span class=\"count\"> 50개 </span>,\n",
       " <span class=\"store\"> 체리가게</span>,\n",
       " <span class=\"price\"> 500원 </span>,\n",
       " <span class=\"count\"> 20개 </span>,\n",
       " <span class=\"store\"> 오렌지가게</span>]"
      ]
     },
     "execution_count": 18,
     "metadata": {},
     "output_type": "execute_result"
    }
   ],
   "source": [
    "soup2.select('span')"
   ]
  },
  {
   "cell_type": "markdown",
   "id": "d9488c8e",
   "metadata": {},
   "source": [
    "### (4) select('상위태그.클래스명')"
   ]
  },
  {
   "cell_type": "code",
   "execution_count": 26,
   "id": "b08cec9f",
   "metadata": {},
   "outputs": [
    {
     "data": {
      "text/plain": [
       "[<p class=\"name1\" id=\"fruits1\" title=\"바나나\"> 바나나 \n",
       "                   <span class=\"price\"> 3000원 </span>\n",
       " <span class=\"count\"> 10개 </span>\n",
       " <span class=\"store\"> 바나나가게 </span>\n",
       " <a href=\"https://www.banana.com\"> banana.com </a>\n",
       " </p>]"
      ]
     },
     "execution_count": 26,
     "metadata": {},
     "output_type": "execute_result"
    }
   ],
   "source": [
    "soup2.select('p.name1')"
   ]
  },
  {
   "cell_type": "code",
   "execution_count": 27,
   "id": "ec8666de",
   "metadata": {},
   "outputs": [
    {
     "data": {
      "text/plain": [
       "[<p class=\"name2\" id=\"fruits2\" title=\"체리\"> 체리 \n",
       "                 <span class=\"price\"> 100원 </span>\n",
       " <span class=\"count\"> 50개 </span>\n",
       " <span class=\"store\"> 체리가게</span>\n",
       " <a href=\"https://www.cherry.com\"> cherry.com </a>\n",
       " </p>]"
      ]
     },
     "execution_count": 27,
     "metadata": {},
     "output_type": "execute_result"
    }
   ],
   "source": [
    "soup2.select('p.name2')"
   ]
  },
  {
   "cell_type": "markdown",
   "id": "8f637323",
   "metadata": {},
   "source": [
    "### (5) select('상위태그.클래스명>하위태그.클래스명')"
   ]
  },
  {
   "cell_type": "code",
   "execution_count": 28,
   "id": "938622bb",
   "metadata": {},
   "outputs": [
    {
     "data": {
      "text/plain": [
       "[<span class=\"price\"> 3000원 </span>,\n",
       " <span class=\"count\"> 10개 </span>,\n",
       " <span class=\"store\"> 바나나가게 </span>]"
      ]
     },
     "execution_count": 28,
     "metadata": {},
     "output_type": "execute_result"
    }
   ],
   "source": [
    "soup2.select('p.name1>span')"
   ]
  },
  {
   "cell_type": "code",
   "execution_count": 29,
   "id": "de6d6349",
   "metadata": {},
   "outputs": [
    {
     "data": {
      "text/plain": [
       "[<span class=\"count\"> 10개 </span>]"
      ]
     },
     "execution_count": 29,
     "metadata": {},
     "output_type": "execute_result"
    }
   ],
   "source": [
    "soup2.select('p.name1>span.count')"
   ]
  },
  {
   "cell_type": "markdown",
   "id": "54e9718b",
   "metadata": {},
   "source": [
    "### (6) select('#아이디명')"
   ]
  },
  {
   "cell_type": "code",
   "execution_count": 31,
   "id": "1c2f75b5",
   "metadata": {},
   "outputs": [
    {
     "data": {
      "text/plain": [
       "[<p class=\"name1\" id=\"fruits1\" title=\"바나나\"> 바나나 \n",
       "                   <span class=\"price\"> 3000원 </span>\n",
       " <span class=\"count\"> 10개 </span>\n",
       " <span class=\"store\"> 바나나가게 </span>\n",
       " <a href=\"https://www.banana.com\"> banana.com </a>\n",
       " </p>]"
      ]
     },
     "execution_count": 31,
     "metadata": {},
     "output_type": "execute_result"
    }
   ],
   "source": [
    "soup2.select('#fruits1')"
   ]
  },
  {
   "cell_type": "markdown",
   "id": "77543554",
   "metadata": {},
   "source": [
    "### (7) select('#아이디명> 태그명.클래스명')\n"
   ]
  },
  {
   "cell_type": "code",
   "execution_count": 34,
   "id": "4475126b",
   "metadata": {},
   "outputs": [
    {
     "data": {
      "text/plain": [
       "[<span class=\"store\"> 바나나가게 </span>]"
      ]
     },
     "execution_count": 34,
     "metadata": {},
     "output_type": "execute_result"
    }
   ],
   "source": [
    "soup2.select('#fruits1>span.store')"
   ]
  },
  {
   "cell_type": "markdown",
   "id": "03c3a913",
   "metadata": {},
   "source": [
    "### (8)  select('태그명['속성='값']')"
   ]
  },
  {
   "cell_type": "code",
   "execution_count": 35,
   "id": "c532af74",
   "metadata": {},
   "outputs": [
    {
     "data": {
      "text/plain": [
       "[<p class=\"name3\" id=\"fruits3\" title=\"오렌지\"> 오렌지\n",
       "                 <span class=\"price\"> 500원 </span>\n",
       " <span class=\"count\"> 20개 </span>\n",
       " <span class=\"store\"> 오렌지가게</span>\n",
       " <a href=\"https://www.orange.com\"> orange.com </a>\n",
       " </p>]"
      ]
     },
     "execution_count": 35,
     "metadata": {},
     "output_type": "execute_result"
    }
   ],
   "source": [
    "#p태그의 title 속성이 '오렌지' =>select\n",
    "soup2.select('p[title=\"오렌지\"]')"
   ]
  },
  {
   "cell_type": "code",
   "execution_count": 85,
   "id": "ab10c754",
   "metadata": {},
   "outputs": [
    {
     "data": {
      "text/plain": [
       "<p class=\"name3\" id=\"fruits3\" title=\"오렌지\"> 오렌지\n",
       "                <span class=\"price\"> 500원 </span>\n",
       "<span class=\"count\"> 20개 </span>\n",
       "<span class=\"store\"> 오렌지가게</span>\n",
       "<a href=\"https://www.orange.com\"> orange.com </a>\n",
       "</p>"
      ]
     },
     "execution_count": 85,
     "metadata": {},
     "output_type": "execute_result"
    }
   ],
   "source": [
    "#p태그의 title 속성이 '오렌지' =>find\n",
    "soup2.find('p',title='오렌지')"
   ]
  },
  {
   "cell_type": "markdown",
   "id": "582b8d1d",
   "metadata": {},
   "source": [
    "### select('태그명')['속성']"
   ]
  },
  {
   "cell_type": "code",
   "execution_count": 40,
   "id": "c624061b",
   "metadata": {},
   "outputs": [
    {
     "data": {
      "text/plain": [
       "'https://www.banana.com'"
      ]
     },
     "execution_count": 40,
     "metadata": {},
     "output_type": "execute_result"
    }
   ],
   "source": [
    "soup2.select('p.name1>a')[0]['href']"
   ]
  },
  {
   "cell_type": "code",
   "execution_count": 43,
   "id": "1a895a2b",
   "metadata": {},
   "outputs": [
    {
     "data": {
      "text/plain": [
       "'https://www.banana.com'"
      ]
     },
     "execution_count": 43,
     "metadata": {},
     "output_type": "execute_result"
    }
   ],
   "source": [
    "soup2.select_one('p.name1>a')['href']"
   ]
  },
  {
   "cell_type": "code",
   "execution_count": 45,
   "id": "40be163a",
   "metadata": {},
   "outputs": [
    {
     "data": {
      "text/plain": [
       "'https://www.banana.com'"
      ]
     },
     "execution_count": 45,
     "metadata": {},
     "output_type": "execute_result"
    }
   ],
   "source": [
    "soup2.find('p','name1').find('a')['href']"
   ]
  },
  {
   "cell_type": "code",
   "execution_count": null,
   "id": "a58ab036",
   "metadata": {},
   "outputs": [],
   "source": []
  }
 ],
 "metadata": {
  "kernelspec": {
   "display_name": "Python 3 (ipykernel)",
   "language": "python",
   "name": "python3"
  },
  "language_info": {
   "codemirror_mode": {
    "name": "ipython",
    "version": 3
   },
   "file_extension": ".py",
   "mimetype": "text/x-python",
   "name": "python",
   "nbconvert_exporter": "python",
   "pygments_lexer": "ipython3",
   "version": "3.11.5"
  }
 },
 "nbformat": 4,
 "nbformat_minor": 5
}
