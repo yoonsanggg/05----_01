{
 "cells": [
  {
   "cell_type": "code",
   "execution_count": 58,
   "id": "bcbfe126-17b2-45c1-a14f-693599e06331",
   "metadata": {},
   "outputs": [],
   "source": [
    "from bs4 import BeautifulSoup as bs\n",
    "import pandas as pd"
   ]
  },
  {
   "cell_type": "code",
   "execution_count": 8,
   "id": "71234d9d-048b-401a-9e2e-82d14f8a72e8",
   "metadata": {},
   "outputs": [],
   "source": [
    "ex2 = ''' \n",
    "<html> \n",
    "    <head> \n",
    "        <h1> 사야할 과일 \n",
    "    </head> \n",
    "    <body> \n",
    "        <h1> 시장가서 사야할 과일 목록 \n",
    "            <div> <p id='fruits1' class='name1' title='바나나'> 바나나 \n",
    "                  <span class = 'price'> 3000원 </span> \n",
    "                  <span class = 'count'> 10개 </span> \n",
    "                  <span class = 'store'> 바나나가게 </span> \n",
    "                  <a href = 'https://www.banana.com'> banana.com </a> \n",
    "                  </p>\n",
    "            </div> \n",
    "            <div> <p id='fruits2' class='name2' title='체리'> 체리 \n",
    "                <span class = 'price'> 100원 </span> \n",
    "                <span class = 'count'> 50개 </span> \n",
    "                <span class = 'store'> 체리가게</span> \n",
    "                <a href = 'https://www.cherry.com'> cherry.com </a>\n",
    "                </p> \n",
    "            </div> \n",
    "            <div> <p id='fruits3' class='name3' title='오렌지'> 오렌지\n",
    "                <span class = 'price'> 500원 </span> \n",
    "                <span class = 'count'> 20개 </span> \n",
    "                <span class = 'store'> 오렌지가게</span> \n",
    "                <a href = 'https://www.orange.com'> orange.com </a>\n",
    "                </p> \n",
    "            <div> \n",
    "    </body> \n",
    "</html> '''\n",
    "soup=bs(ex2,'html')"
   ]
  },
  {
   "cell_type": "code",
   "execution_count": 25,
   "id": "dbc90889-101d-4097-895e-e0da68f07afa",
   "metadata": {},
   "outputs": [
    {
     "data": {
      "text/plain": [
       "' 50개 '"
      ]
     },
     "execution_count": 25,
     "metadata": {},
     "output_type": "execute_result"
    }
   ],
   "source": [
    "soup.find(\"p\",id='fruits2').find('span','count').text"
   ]
  },
  {
   "cell_type": "code",
   "execution_count": 30,
   "id": "865c3dd1-74e0-4e3c-b270-b0a4196a60e0",
   "metadata": {},
   "outputs": [
    {
     "data": {
      "text/plain": [
       "' 50개 '"
      ]
     },
     "execution_count": 30,
     "metadata": {},
     "output_type": "execute_result"
    }
   ],
   "source": [
    "soup.select_one(\"p#fruits2 span.count\").text"
   ]
  },
  {
   "cell_type": "code",
   "execution_count": 36,
   "id": "ab7fa034-ea11-47c9-9f70-63817db67847",
   "metadata": {},
   "outputs": [
    {
     "data": {
      "text/plain": [
       "[' 10개 ', ' 50개 ', ' 20개 ']"
      ]
     },
     "execution_count": 36,
     "metadata": {},
     "output_type": "execute_result"
    }
   ],
   "source": [
    "[i.text for i in soup.select(\"span.count\")]"
   ]
  },
  {
   "cell_type": "code",
   "execution_count": 42,
   "id": "1e65defe-b495-4f54-aa54-eef755e8cfb5",
   "metadata": {},
   "outputs": [
    {
     "data": {
      "text/plain": [
       "['https://www.banana.com', 'https://www.cherry.com', 'https://www.orange.com']"
      ]
     },
     "execution_count": 42,
     "metadata": {},
     "output_type": "execute_result"
    }
   ],
   "source": [
    "[i['href'] for i in soup.select(\"a\")]"
   ]
  },
  {
   "cell_type": "code",
   "execution_count": 43,
   "id": "e01fd1b5-ec7d-45e0-a43c-818a42d3d53c",
   "metadata": {},
   "outputs": [
    {
     "data": {
      "text/plain": [
       "[<p class=\"name1\" id=\"fruits1\" title=\"바나나\"> 바나나 \n",
       "                   <span class=\"price\"> 3000원 </span>\n",
       " <span class=\"count\"> 10개 </span>\n",
       " <span class=\"store\"> 바나나가게 </span>\n",
       " <a href=\"https://www.banana.com\"> banana.com </a>\n",
       " </p>]"
      ]
     },
     "execution_count": 43,
     "metadata": {},
     "output_type": "execute_result"
    }
   ],
   "source": [
    "soup.select('p.name1')"
   ]
  },
  {
   "cell_type": "code",
   "execution_count": 46,
   "id": "44429e30-65e9-4756-994f-0660da2c0bd6",
   "metadata": {},
   "outputs": [
    {
     "data": {
      "text/plain": [
       "[<p class=\"name1\" id=\"fruits1\" title=\"바나나\"> 바나나 \n",
       "                   <span class=\"price\"> 3000원 </span>\n",
       " <span class=\"count\"> 10개 </span>\n",
       " <span class=\"store\"> 바나나가게 </span>\n",
       " <a href=\"https://www.banana.com\"> banana.com </a>\n",
       " </p>]"
      ]
     },
     "execution_count": 46,
     "metadata": {},
     "output_type": "execute_result"
    }
   ],
   "source": [
    "soup.select(\"p[title='바나나']\")"
   ]
  },
  {
   "cell_type": "code",
   "execution_count": 59,
   "id": "edeacb81-cf54-4ff3-beab-e9027c1def4e",
   "metadata": {},
   "outputs": [
    {
     "data": {
      "text/html": [
       "<div>\n",
       "<style scoped>\n",
       "    .dataframe tbody tr th:only-of-type {\n",
       "        vertical-align: middle;\n",
       "    }\n",
       "\n",
       "    .dataframe tbody tr th {\n",
       "        vertical-align: top;\n",
       "    }\n",
       "\n",
       "    .dataframe thead th {\n",
       "        text-align: right;\n",
       "    }\n",
       "</style>\n",
       "<table border=\"1\" class=\"dataframe\">\n",
       "  <thead>\n",
       "    <tr style=\"text-align: right;\">\n",
       "      <th></th>\n",
       "      <th>0</th>\n",
       "      <th>1</th>\n",
       "    </tr>\n",
       "  </thead>\n",
       "  <tbody>\n",
       "    <tr>\n",
       "      <th>0</th>\n",
       "      <td>https://www.banana.com</td>\n",
       "      <td>banana.com</td>\n",
       "    </tr>\n",
       "    <tr>\n",
       "      <th>1</th>\n",
       "      <td>https://www.cherry.com</td>\n",
       "      <td>cherry.com</td>\n",
       "    </tr>\n",
       "    <tr>\n",
       "      <th>2</th>\n",
       "      <td>https://www.orange.com</td>\n",
       "      <td>orange.com</td>\n",
       "    </tr>\n",
       "  </tbody>\n",
       "</table>\n",
       "</div>"
      ],
      "text/plain": [
       "                        0             1\n",
       "0  https://www.banana.com   banana.com \n",
       "1  https://www.cherry.com   cherry.com \n",
       "2  https://www.orange.com   orange.com "
      ]
     },
     "execution_count": 59,
     "metadata": {},
     "output_type": "execute_result"
    }
   ],
   "source": [
    "res=[]\n",
    "for i in soup.select('a'):\n",
    "    link = i['href']\n",
    "    title=i.text \n",
    "    res.append([link,title])\n",
    "pd.DataFrame(res)"
   ]
  },
  {
   "cell_type": "code",
   "execution_count": 69,
   "id": "ce10eaf6-5317-4b5d-9966-e38ad24f0a4d",
   "metadata": {},
   "outputs": [
    {
     "data": {
      "text/plain": [
       "{'title': ' orange.com ', 'link': 'https://www.orange.com'}"
      ]
     },
     "execution_count": 69,
     "metadata": {},
     "output_type": "execute_result"
    }
   ],
   "source": [
    "res=[]\n",
    "for i in soup.select('a'):\n",
    "    tmp={}\n",
    "    tmp['title']=i.text\n",
    "    tmp['link']=i['href']\n",
    "    res.append(tmp)\n",
    "\n",
    "pd.DataFrame(res)"
   ]
  },
  {
   "cell_type": "code",
   "execution_count": null,
   "id": "7fb7ba91-83dd-4318-8924-f7c36d48601c",
   "metadata": {},
   "outputs": [],
   "source": [
    "# 품명 가격 개수 거래처 거래처링크\n"
   ]
  }
 ],
 "metadata": {
  "kernelspec": {
   "display_name": "Python (edu)",
   "language": "python",
   "name": "edu"
  },
  "language_info": {
   "codemirror_mode": {
    "name": "ipython",
    "version": 3
   },
   "file_extension": ".py",
   "mimetype": "text/x-python",
   "name": "python",
   "nbconvert_exporter": "python",
   "pygments_lexer": "ipython3",
   "version": "3.12.5"
  }
 },
 "nbformat": 4,
 "nbformat_minor": 5
}
