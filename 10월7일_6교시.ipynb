{
 "cells": [
  {
   "cell_type": "code",
   "execution_count": 92,
   "id": "c334fbf1-4491-4f1e-9c03-9145adfe2ea6",
   "metadata": {},
   "outputs": [],
   "source": [
    "from bs4 import BeautifulSoup as bs\n",
    "import pandas as pd"
   ]
  },
  {
   "cell_type": "code",
   "execution_count": 99,
   "id": "789fca4e-78e5-438f-9bb0-3cf389cfa070",
   "metadata": {},
   "outputs": [],
   "source": [
    "ex2 = ''' \n",
    "<html> \n",
    "    <head> \n",
    "        <h1> 사야할 과일 \n",
    "    </head> \n",
    "    <body> \n",
    "        <h1> 시장가서 사야할 과일 목록 \n",
    "            <div> <p id='fruits1' class='name1' title='바나나'> 바나나 \n",
    "                  <span class = 'price'> 3000원 </span> \n",
    "                  <span class = 'count'> 10개 </span> \n",
    "                  <span class = 'store'> 바나나가게 </span> \n",
    "                  <a href = 'https://www.banana.com'> banana.com </a> \n",
    "                  </p>\n",
    "            </div> \n",
    "            <div> <p id='fruits2' class='name2' title='체리'> 체리 \n",
    "                <span class = 'price'> 100원 </span> \n",
    "                <span class = 'count'> 50개 </span> \n",
    "                <span class = 'store'> 체리가게</span> \n",
    "                <a href = 'https://www.cherry.com'> cherry.com </a>\n",
    "                </p> \n",
    "            </div> \n",
    "            <div> <p id='fruits3' class='name3' title='오렌지'> 오렌지\n",
    "                <span class = 'price'> 500원 </span> \n",
    "                <span class = 'count'> 20개 </span> \n",
    "                <span class = 'store'> 오렌지가게</span> \n",
    "                <a href = 'https://www.orange.com'> orange.com </a>\n",
    "                </p> \n",
    "            </div> \n",
    "    </body> \n",
    "</html> '''"
   ]
  },
  {
   "cell_type": "code",
   "execution_count": 100,
   "id": "79962d83-eb26-402f-a7bc-c52c4e2a786e",
   "metadata": {},
   "outputs": [
    {
     "data": {
      "text/plain": [
       "\n",
       "<html>\n",
       "<head>\n",
       "<h1> 사야할 과일 \n",
       "    </h1></head>\n",
       "<body>\n",
       "<h1> 시장가서 사야할 과일 목록 \n",
       "            <div> <p class=\"name1\" id=\"fruits1\" title=\"바나나\"> 바나나 \n",
       "                  <span class=\"price\"> 3000원 </span>\n",
       "<span class=\"count\"> 10개 </span>\n",
       "<span class=\"store\"> 바나나가게 </span>\n",
       "<a href=\"https://www.banana.com\"> banana.com </a>\n",
       "</p>\n",
       "</div>\n",
       "<div> <p class=\"name2\" id=\"fruits2\" title=\"체리\"> 체리 \n",
       "                <span class=\"price\"> 100원 </span>\n",
       "<span class=\"count\"> 50개 </span>\n",
       "<span class=\"store\"> 체리가게</span>\n",
       "<a href=\"https://www.cherry.com\"> cherry.com </a>\n",
       "</p>\n",
       "</div>\n",
       "<div> <p class=\"name3\" id=\"fruits3\" title=\"오렌지\"> 오렌지\n",
       "                <span class=\"price\"> 500원 </span>\n",
       "<span class=\"count\"> 20개 </span>\n",
       "<span class=\"store\"> 오렌지가게</span>\n",
       "<a href=\"https://www.orange.com\"> orange.com </a>\n",
       "</p>\n",
       "</div>\n",
       "</h1></body>\n",
       "</html> "
      ]
     },
     "execution_count": 100,
     "metadata": {},
     "output_type": "execute_result"
    }
   ],
   "source": [
    "soup = bs(ex2,'html')\n",
    "soup"
   ]
  },
  {
   "cell_type": "code",
   "execution_count": 101,
   "id": "0b7c2750-2cbd-4896-827e-9f25ad267804",
   "metadata": {
    "scrolled": true
   },
   "outputs": [
    {
     "data": {
      "text/plain": [
       "[<div> <p class=\"name1\" id=\"fruits1\" title=\"바나나\"> 바나나 \n",
       "                   <span class=\"price\"> 3000원 </span>\n",
       " <span class=\"count\"> 10개 </span>\n",
       " <span class=\"store\"> 바나나가게 </span>\n",
       " <a href=\"https://www.banana.com\"> banana.com </a>\n",
       " </p>\n",
       " </div>,\n",
       " <div> <p class=\"name2\" id=\"fruits2\" title=\"체리\"> 체리 \n",
       "                 <span class=\"price\"> 100원 </span>\n",
       " <span class=\"count\"> 50개 </span>\n",
       " <span class=\"store\"> 체리가게</span>\n",
       " <a href=\"https://www.cherry.com\"> cherry.com </a>\n",
       " </p>\n",
       " </div>,\n",
       " <div> <p class=\"name3\" id=\"fruits3\" title=\"오렌지\"> 오렌지\n",
       "                 <span class=\"price\"> 500원 </span>\n",
       " <span class=\"count\"> 20개 </span>\n",
       " <span class=\"store\"> 오렌지가게</span>\n",
       " <a href=\"https://www.orange.com\"> orange.com </a>\n",
       " </p>\n",
       " </div>]"
      ]
     },
     "execution_count": 101,
     "metadata": {},
     "output_type": "execute_result"
    }
   ],
   "source": [
    "res= []\n",
    "for i in soup.select('div'):\n",
    "    res.append(i)\n",
    "res"
   ]
  },
  {
   "cell_type": "code",
   "execution_count": 102,
   "id": "e6c8d23d-1e36-4cbe-876d-c14cf95da879",
   "metadata": {},
   "outputs": [
    {
     "data": {
      "text/plain": [
       "[<div> <p class=\"name1\" id=\"fruits1\" title=\"바나나\"> 바나나 \n",
       "                   <span class=\"price\"> 3000원 </span>\n",
       " <span class=\"count\"> 10개 </span>\n",
       " <span class=\"store\"> 바나나가게 </span>\n",
       " <a href=\"https://www.banana.com\"> banana.com </a>\n",
       " </p>\n",
       " </div>,\n",
       " <div> <p class=\"name2\" id=\"fruits2\" title=\"체리\"> 체리 \n",
       "                 <span class=\"price\"> 100원 </span>\n",
       " <span class=\"count\"> 50개 </span>\n",
       " <span class=\"store\"> 체리가게</span>\n",
       " <a href=\"https://www.cherry.com\"> cherry.com </a>\n",
       " </p>\n",
       " </div>,\n",
       " <div> <p class=\"name3\" id=\"fruits3\" title=\"오렌지\"> 오렌지\n",
       "                 <span class=\"price\"> 500원 </span>\n",
       " <span class=\"count\"> 20개 </span>\n",
       " <span class=\"store\"> 오렌지가게</span>\n",
       " <a href=\"https://www.orange.com\"> orange.com </a>\n",
       " </p>\n",
       " </div>]"
      ]
     },
     "execution_count": 102,
     "metadata": {},
     "output_type": "execute_result"
    }
   ],
   "source": [
    "div_tags=soup.find_all('div')\n",
    "div_tags\n",
    "res=[]"
   ]
  },
  {
   "cell_type": "code",
   "execution_count": 125,
   "id": "fe697569-a229-4ca7-ac44-18602c4cc193",
   "metadata": {},
   "outputs": [],
   "source": [
    "for i in div_tags:\n",
    "    tmp={}\n",
    "    tmp['품명']=i.find('p').text.split('\\n')[0]\n",
    "    tmp['가격']=int(i.find('span',\"price\").text.strip().replace('원',\"\"))\n",
    "    tmp['갯수']=int(i.find('span','count').text.strip().replace('개',''))\n",
    "    tmp['거래처']=i.find('span','store').text.strip()\n",
    "    tmp['링크']=i.find('a')['href']\n",
    "    res.append(tmp)"
   ]
  },
  {
   "cell_type": "code",
   "execution_count": 128,
   "id": "3f878f60-3868-4633-9c6d-61f34cb16519",
   "metadata": {},
   "outputs": [
    {
     "data": {
      "text/html": [
       "<div>\n",
       "<style scoped>\n",
       "    .dataframe tbody tr th:only-of-type {\n",
       "        vertical-align: middle;\n",
       "    }\n",
       "\n",
       "    .dataframe tbody tr th {\n",
       "        vertical-align: top;\n",
       "    }\n",
       "\n",
       "    .dataframe thead th {\n",
       "        text-align: right;\n",
       "    }\n",
       "</style>\n",
       "<table border=\"1\" class=\"dataframe\">\n",
       "  <thead>\n",
       "    <tr style=\"text-align: right;\">\n",
       "      <th></th>\n",
       "      <th>품명</th>\n",
       "      <th>가격</th>\n",
       "      <th>갯수</th>\n",
       "      <th>거래처</th>\n",
       "      <th>링크</th>\n",
       "    </tr>\n",
       "  </thead>\n",
       "  <tbody>\n",
       "    <tr>\n",
       "      <th>0</th>\n",
       "      <td>바나나</td>\n",
       "      <td>3000</td>\n",
       "      <td>10</td>\n",
       "      <td>바나나가게</td>\n",
       "      <td>https://www.banana.com</td>\n",
       "    </tr>\n",
       "    <tr>\n",
       "      <th>1</th>\n",
       "      <td>체리</td>\n",
       "      <td>100</td>\n",
       "      <td>50</td>\n",
       "      <td>체리가게</td>\n",
       "      <td>https://www.cherry.com</td>\n",
       "    </tr>\n",
       "    <tr>\n",
       "      <th>2</th>\n",
       "      <td>오렌지</td>\n",
       "      <td>500</td>\n",
       "      <td>20</td>\n",
       "      <td>오렌지가게</td>\n",
       "      <td>https://www.orange.com</td>\n",
       "    </tr>\n",
       "  </tbody>\n",
       "</table>\n",
       "</div>"
      ],
      "text/plain": [
       "      품명    가격  갯수    거래처                      링크\n",
       "0   바나나   3000  10  바나나가게  https://www.banana.com\n",
       "1    체리    100  50   체리가게  https://www.cherry.com\n",
       "2    오렌지   500  20  오렌지가게  https://www.orange.com"
      ]
     },
     "execution_count": 128,
     "metadata": {},
     "output_type": "execute_result"
    }
   ],
   "source": [
    "df = pd.DataFrame(res)\n",
    "df"
   ]
  },
  {
   "cell_type": "code",
   "execution_count": 141,
   "id": "5ea4e5da-9ef6-4908-bf37-32061de70c42",
   "metadata": {},
   "outputs": [
    {
     "data": {
      "text/plain": [
       "'https://www.cherry.com'"
      ]
     },
     "execution_count": 141,
     "metadata": {},
     "output_type": "execute_result"
    }
   ],
   "source": [
    "soup.select('a')[1]['href']"
   ]
  },
  {
   "cell_type": "code",
   "execution_count": null,
   "id": "2c7b6f9f-fa20-4874-a503-4a079a79d2c5",
   "metadata": {},
   "outputs": [],
   "source": []
  }
 ],
 "metadata": {
  "kernelspec": {
   "display_name": "Python (edu)",
   "language": "python",
   "name": "edu"
  },
  "language_info": {
   "codemirror_mode": {
    "name": "ipython",
    "version": 3
   },
   "file_extension": ".py",
   "mimetype": "text/x-python",
   "name": "python",
   "nbconvert_exporter": "python",
   "pygments_lexer": "ipython3",
   "version": "3.12.5"
  }
 },
 "nbformat": 4,
 "nbformat_minor": 5
}
