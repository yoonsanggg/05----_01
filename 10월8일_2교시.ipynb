{
 "cells": [
  {
   "cell_type": "code",
   "execution_count": 143,
   "id": "a860a68f-8483-4606-b3d6-9b41f37d01f3",
   "metadata": {
    "scrolled": true
   },
   "outputs": [
    {
     "data": {
      "text/plain": [
       "[{'날짜': '2024.08.24.',\n",
       "  '링크': 'https://kin.naver.com/qna/detail.naver?d1id=1&dirId=10402&docId=474404973&qb=7YyM7J207I2s&enc=utf8§ion=kin.qna_ency&rank=1&search_sort=0&spq=0',\n",
       "  '제목': '파이썬 입문 질문',\n",
       "  '요약': '... ‘파이썬 업무자동화’를 검색하다가 람입니다님의... 3개 강의는 파이썬 강의, chat gpt강의, 구글 스프레드시트강의입니다. 제가 생각하는 강의 조합은 파이썬 + chat gpt... '},\n",
       " {'날짜': '2024.09.28.',\n",
       "  '링크': 'https://kin.naver.com/qna/detail.naver?d1id=1&dirId=1040101&docId=475943347&qb=7YyM7J207I2s&enc=utf8§ion=kin.qna_ency&rank=2&search_sort=0&spq=0',\n",
       "  '제목': '파이썬 c언어',\n",
       "  '요약': '... ‘파이썬 업무자동화’를 검색하다가 람입니다님의... 3개 강의는 파이썬 강의, chat gpt강의, 구글 스프레드시트강의입니다. 제가 생각하는 강의 조합은 파이썬 + chat gpt... '},\n",
       " {'날짜': '2024.10.06.',\n",
       "  '링크': 'https://kin.naver.com/qna/detail.naver?d1id=1&dirId=10402&docId=476253388&qb=7YyM7J207I2s&enc=utf8§ion=kin.qna_ency&rank=3&search_sort=0&spq=0',\n",
       "  '제목': '파이썬으로 가능한 업무일까요?',\n",
       "  '요약': '... ‘파이썬 업무자동화’를 검색하다가 람입니다님의... 3개 강의는 파이썬 강의, chat gpt강의, 구글 스프레드시트강의입니다. 제가 생각하는 강의 조합은 파이썬 + chat gpt... '},\n",
       " {'날짜': '2024.08.14.',\n",
       "  '링크': 'https://kin.naver.com/qna/detail.naver?d1id=11&dirId=1118&docId=473597949&qb=7YyM7J207I2s&enc=utf8§ion=kin.qna_ency&rank=4&search_sort=0&spq=0',\n",
       "  '제목': '파이썬엑셀자동화질문',\n",
       "  '요약': '... ‘파이썬 업무자동화’를 검색하다가 람입니다님의... 3개 강의는 파이썬 강의, chat gpt강의, 구글 스프레드시트강의입니다. 제가 생각하는 강의 조합은 파이썬 + chat gpt... '},\n",
       " {'날짜': '2024.09.12.',\n",
       "  '링크': 'https://kin.naver.com/qna/detail.naver?d1id=1&dirId=10406&docId=470741052&qb=7YyM7J207I2s&enc=utf8§ion=kin.qna_ency&rank=5&search_sort=0&spq=0',\n",
       "  '제목': '파이썬독학할 때 어떻게 공부를 해야하나요',\n",
       "  '요약': '... ‘파이썬 업무자동화’를 검색하다가 람입니다님의... 3개 강의는 파이썬 강의, chat gpt강의, 구글 스프레드시트강의입니다. 제가 생각하는 강의 조합은 파이썬 + chat gpt... '},\n",
       " {'날짜': '2024.08.23.',\n",
       "  '링크': 'https://kin.naver.com/qna/detail.naver?d1id=10&dirId=100507&docId=474364540&qb=7YyM7J207I2s&enc=utf8§ion=kin.qna_ency&rank=6&search_sort=0&spq=0',\n",
       "  '제목': '파이썬 자동차 만들기',\n",
       "  '요약': '... ‘파이썬 업무자동화’를 검색하다가 람입니다님의... 3개 강의는 파이썬 강의, chat gpt강의, 구글 스프레드시트강의입니다. 제가 생각하는 강의 조합은 파이썬 + chat gpt... '},\n",
       " {'날짜': '2024.09.23.',\n",
       "  '링크': 'https://kin.naver.com/qna/detail.naver?d1id=1&dirId=10402&docId=475673221&qb=7YyM7J207I2s&enc=utf8§ion=kin.qna_ency&rank=7&search_sort=0&spq=0',\n",
       "  '제목': '파이썬 코딩 질문드립니다ㅠㅠ',\n",
       "  '요약': '... ‘파이썬 업무자동화’를 검색하다가 람입니다님의... 3개 강의는 파이썬 강의, chat gpt강의, 구글 스프레드시트강의입니다. 제가 생각하는 강의 조합은 파이썬 + chat gpt... '},\n",
       " {'날짜': '2024.08.02.',\n",
       "  '링크': 'https://kin.naver.com/qna/detail.naver?d1id=1&dirId=10402&docId=473344003&qb=7YyM7J207I2s&enc=utf8§ion=kin.qna_ency&rank=8&search_sort=0&spq=0',\n",
       "  '제목': '파이썬 질문',\n",
       "  '요약': '... ‘파이썬 업무자동화’를 검색하다가 람입니다님의... 3개 강의는 파이썬 강의, chat gpt강의, 구글 스프레드시트강의입니다. 제가 생각하는 강의 조합은 파이썬 + chat gpt... '},\n",
       " {'날짜': '2024.08.22.',\n",
       "  '링크': 'https://kin.naver.com/qna/detail.naver?d1id=1&dirId=10402&docId=474312215&qb=7YyM7J207I2s&enc=utf8§ion=kin.qna_ency&rank=9&search_sort=0&spq=0',\n",
       "  '제목': '파이썬관련 질문',\n",
       "  '요약': '... ‘파이썬 업무자동화’를 검색하다가 람입니다님의... 3개 강의는 파이썬 강의, chat gpt강의, 구글 스프레드시트강의입니다. 제가 생각하는 강의 조합은 파이썬 + chat gpt... '},\n",
       " {'날짜': '2024.09.20.',\n",
       "  '링크': 'https://kin.naver.com/qna/detail.naver?d1id=4&dirId=406&docId=475598534&qb=7YyM7J207I2s&enc=utf8§ion=kin.qna_ency&rank=10&search_sort=0&spq=0',\n",
       "  '제목': '공기업 사무직도 파이썬을 배우면 업무를... ',\n",
       "  '요약': '... ‘파이썬 업무자동화’를 검색하다가 람입니다님의... 3개 강의는 파이썬 강의, chat gpt강의, 구글 스프레드시트강의입니다. 제가 생각하는 강의 조합은 파이썬 + chat gpt... '}]"
      ]
     },
     "execution_count": 143,
     "metadata": {},
     "output_type": "execute_result"
    }
   ],
   "source": [
    "from bs4 import BeautifulSoup as bs\n",
    "import pandas as pd\n",
    "import requests\n",
    "\n",
    "def test(searchWord,pageNo=1):\n",
    "    url=f'https://kin.naver.com/search/list.naver?query={searchWord}&{pageNo}'\n",
    "    \n",
    "    crw = requests.get(url)\n",
    "    soup= bs(crw.text,'html')\n",
    "    \n",
    "    title_a_tag = soup.select('ul.basic1>li')\n",
    "    res=[]\n",
    "    요약= soup.find_all('dd')\n",
    "    \n",
    "    for i in title_a_tag:\n",
    "        tmp={}\n",
    "        tmp['날짜'] = i.dd.text\n",
    "        tmp['링크'] = i.a['href']\n",
    "        tmp['제목'] = i.a.text\n",
    "        for j in 요약:\n",
    "            if j.has_attr('class') == False:\n",
    "                tmp['요약']=j.text\n",
    "        res.append(tmp)\n",
    "    return res\n"
   ]
  },
  {
   "cell_type": "code",
   "execution_count": 146,
   "id": "51cac0a7-37a5-4f5b-8de4-13f9bcd76d2b",
   "metadata": {},
   "outputs": [],
   "source": [
    "df = pd.DataFrame(res)"
   ]
  },
  {
   "cell_type": "code",
   "execution_count": 147,
   "id": "c4ac6f45-02fd-4d20-91c4-7b376b8c7e34",
   "metadata": {},
   "outputs": [
    {
     "data": {
      "text/plain": [
       "(10, 4)"
      ]
     },
     "execution_count": 147,
     "metadata": {},
     "output_type": "execute_result"
    }
   ],
   "source": [
    "df.shape"
   ]
  },
  {
   "cell_type": "code",
   "execution_count": 157,
   "id": "95dc7bb0-9709-4195-8562-3bc817649955",
   "metadata": {},
   "outputs": [
    {
     "name": "stdout",
     "output_type": "stream",
     "text": [
      "점프 투 파이썬 사서 파이썬 하는중인데 vs코드를 안써도되나요 유튜브를 보고... 파이썬 코드 *.py는 Text 파일 입니다. AcroEdit, MemoPad 등 에디터를 사용하면 됩니다.... \n",
      "... 이걸 불러 오잖아요 근데 파이썬은 그런 게 없잖아요... 파이썬에서는 모듈, 또는 라이브러리라고 부릅니다.... 파이썬은 쉬운 사용을 목표로 하기 때문에 한상 늘... \n",
      "... 최근 파이썬이라는 자동화 프로그램을... 제가 파이썬으로 자동화 하고싶은 원하는 업무는 1.외국어를... 불가능하진 않습니다만 파이썬을 이제 막 알게되신 시점에서... \n",
      "파이썬 엑셀 자동화 시작하려고하는데요 그냥 쌩초보예요 openpyxl부터 설치하라는 글 봐서 파이썬 프로그램에... 해당 openpyxl은 파이썬 프로그램에서 엑셀 자동화를... \n",
      "파이썬독학으로 공부하려고 합니다 파이썬이 다른 언어에 비해 쉽다고는 하는데 저처럼... 처음하는데 파이썬독학으로 시작하려면 어떻게 공부를 하면 좋을까요? 파이썬독학... \n",
      "파이썬 찍먹만 해본 고1입니다 파이썬으로 자동차를 만들어볼려고 하는데 정말... 그것 이라면 파이썬 turtle 로 자동차 그리기 하면 나올 겁니다.... \n",
      "안녕하세요 대학교 과제로 파이썬 코딩 과제를 해야하는데 강의를 봐도 도저히 모르겠어서 도움 요청드립니다.ㅠㅠ 코드를 어떻게 짜야 할까요? 부탁드립니다. 두 리스트의... \n",
      "파이썬 완전 초보라 잘 몰라서 질문해봅니당 만약 제가 파이썬으로 어떤 프로그램을 만들고 그걸... 컴퓨터에 파이썬이 없어도 제가 보낸 파일을... \n",
      "... 전 파이썬과 엑셀을 공부하려고 하는데요 2학년때... 필요한 파이썬, 엑셀 관련 자격증이나 이 외에도 중요한... ㅠ 안녕하세요 공대다니고 계시군요 파이썬 혹은 엑셀을... \n",
      "... ‘파이썬 업무자동화’를 검색하다가 람입니다님의... 3개 강의는 파이썬 강의, chat gpt강의, 구글 스프레드시트강의입니다. 제가 생각하는 강의 조합은 파이썬 + chat gpt... \n"
     ]
    }
   ],
   "source": [
    "    for i in title_a_tag:\n",
    "        print(i.find_all('dd')[1].text)\n"
   ]
  },
  {
   "cell_type": "code",
   "execution_count": null,
   "id": "2344c9ef-3d40-4bfb-94d8-5c56ce2b370d",
   "metadata": {},
   "outputs": [],
   "source": []
  }
 ],
 "metadata": {
  "kernelspec": {
   "display_name": "Python (edu)",
   "language": "python",
   "name": "edu"
  },
  "language_info": {
   "codemirror_mode": {
    "name": "ipython",
    "version": 3
   },
   "file_extension": ".py",
   "mimetype": "text/x-python",
   "name": "python",
   "nbconvert_exporter": "python",
   "pygments_lexer": "ipython3",
   "version": "3.12.5"
  }
 },
 "nbformat": 4,
 "nbformat_minor": 5
}
