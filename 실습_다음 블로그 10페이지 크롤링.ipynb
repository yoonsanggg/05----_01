{
 "cells": [
  {
   "cell_type": "code",
   "execution_count": 2,
   "id": "59f7e340",
   "metadata": {},
   "outputs": [],
   "source": [
    "import pandas as pd\n",
    "import requests\n",
    "from bs4 import BeautifulSoup as bs"
   ]
  },
  {
   "cell_type": "code",
   "execution_count": 3,
   "id": "0dedbf35",
   "metadata": {},
   "outputs": [],
   "source": [
    "\n",
    "\n",
    "검색어='스타벅스'\n",
    "pages=10\n",
    "\n",
    "htmls=[]\n",
    "for page in range(1,pages+1):\n",
    "    url='https://search.daum.net/search?w=blog&DA=PGD&enc=utf8&q='+검색어+'&p='+str(page)\n",
    "    html=requests.get(url)\n",
    "    htmls.append(html)\n",
    "    \n",
    "    \n",
    "    \n",
    "\n",
    "result=[]\n",
    "for html in htmls:\n",
    "    soup=bs(html.text,'html.parser')\n",
    "    div_tags=soup.select('div.cont_inner')\n",
    "    res=[]\n",
    "    for div in div_tags:\n",
    "        title=div.find('a','f_link_b').text\n",
    "        url=div.find('a','f_link_b')['href']\n",
    "        date=div.find('span','f_nb date').text\n",
    "        contents=div.find('p','f_eb desc').text\n",
    "        writer=div.find('a','f_nb').text\n",
    "        tmp={\n",
    "            '제목':title,\n",
    "            '작성일':date,\n",
    "            '내용':contents,\n",
    "            '작성자':writer,\n",
    "            'url':url\n",
    "        }\n",
    "        res.append(tmp)\n",
    "    df=pd.DataFrame(res)\n",
    "    result.append(df)\n",
    "\n",
    "# df=pd.DataFrame(result)\n",
    "# display(df)"
   ]
  },
  {
   "cell_type": "code",
   "execution_count": 4,
   "id": "2fdbbe60",
   "metadata": {},
   "outputs": [
    {
     "data": {
      "text/html": [
       "<div>\n",
       "<style scoped>\n",
       "    .dataframe tbody tr th:only-of-type {\n",
       "        vertical-align: middle;\n",
       "    }\n",
       "\n",
       "    .dataframe tbody tr th {\n",
       "        vertical-align: top;\n",
       "    }\n",
       "\n",
       "    .dataframe thead th {\n",
       "        text-align: right;\n",
       "    }\n",
       "</style>\n",
       "<table border=\"1\" class=\"dataframe\">\n",
       "  <thead>\n",
       "    <tr style=\"text-align: right;\">\n",
       "      <th></th>\n",
       "    </tr>\n",
       "  </thead>\n",
       "  <tbody>\n",
       "  </tbody>\n",
       "</table>\n",
       "</div>"
      ],
      "text/plain": [
       "Empty DataFrame\n",
       "Columns: []\n",
       "Index: []"
      ]
     },
     "metadata": {},
     "output_type": "display_data"
    }
   ],
   "source": [
    "df_res=pd.concat(result,ignore_index=True)\n",
    "display(df_res)"
   ]
  },
  {
   "cell_type": "code",
   "execution_count": 5,
   "id": "647f6654",
   "metadata": {},
   "outputs": [
    {
     "ename": "TypeError",
     "evalue": "'Response' object is not subscriptable",
     "output_type": "error",
     "traceback": [
      "\u001b[1;31m---------------------------------------------------------------------------\u001b[0m",
      "\u001b[1;31mTypeError\u001b[0m                                 Traceback (most recent call last)",
      "Cell \u001b[1;32mIn[5], line 1\u001b[0m\n\u001b[1;32m----> 1\u001b[0m html[\u001b[38;5;241m0\u001b[39m]\n",
      "\u001b[1;31mTypeError\u001b[0m: 'Response' object is not subscriptable"
     ]
    }
   ],
   "source": [
    "html[0]"
   ]
  },
  {
   "cell_type": "code",
   "execution_count": null,
   "id": "c1672352",
   "metadata": {},
   "outputs": [],
   "source": []
  }
 ],
 "metadata": {
  "kernelspec": {
   "display_name": "Python 3 (ipykernel)",
   "language": "python",
   "name": "python3"
  },
  "language_info": {
   "codemirror_mode": {
    "name": "ipython",
    "version": 3
   },
   "file_extension": ".py",
   "mimetype": "text/x-python",
   "name": "python",
   "nbconvert_exporter": "python",
   "pygments_lexer": "ipython3",
   "version": "3.11.5"
  }
 },
 "nbformat": 4,
 "nbformat_minor": 5
}
